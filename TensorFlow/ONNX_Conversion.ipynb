{
  "nbformat": 4,
  "nbformat_minor": 0,
  "metadata": {
    "colab": {
      "provenance": [],
      "toc_visible": true,
      "authorship_tag": "ABX9TyPXqtYsKNpVciqE1Gn/v/B8",
      "include_colab_link": true
    },
    "kernelspec": {
      "name": "python3",
      "display_name": "Python 3"
    },
    "language_info": {
      "name": "python"
    }
  },
  "cells": [
    {
      "cell_type": "markdown",
      "metadata": {
        "id": "view-in-github",
        "colab_type": "text"
      },
      "source": [
        "<a href=\"https://colab.research.google.com/github/maktaurus/ML-Work/blob/main/ONNX_Conversion.ipynb\" target=\"_parent\"><img src=\"https://colab.research.google.com/assets/colab-badge.svg\" alt=\"Open In Colab\"/></a>"
      ]
    },
    {
      "cell_type": "markdown",
      "source": [
        "# Conversion of TF model to ONNX and Quantization"
      ],
      "metadata": {
        "id": "ldhXFaWr6ETy"
      }
    },
    {
      "cell_type": "markdown",
      "source": [
        "Checkout below documentation for further understanding\n",
        "\n",
        "https://onnxruntime.ai/docs/tutorials/tf-get-started.html\n",
        "\n",
        "https://github.com/onnx/tensorflow-onnx\n",
        "\n",
        "https://onnxruntime.ai/docs/performance/model-optimizations/quantization.html#:~:text=Quantization%20in%20ONNX%20Runtime%20refers,quantization%20of%20an%20ONNX%20model.&text=zero_point%20represents%20zero%20in%20the,is%20used%20in%20many%20CNNs.\n"
      ],
      "metadata": {
        "id": "0DwlfsU-1G5T"
      }
    },
    {
      "cell_type": "code",
      "execution_count": null,
      "metadata": {
        "id": "Uvyw68_a2bok"
      },
      "outputs": [],
      "source": [
        "import tensorflow as tf\n",
        "import numpy as np\n",
        "import os\n",
        "import pandas as pd\n",
        "import matplotlib.pyplot as plt\n",
        "from tensorflow.keras.utils import load_img, img_to_array, array_to_img\n",
        "from tensorboard.plugins.hparams import api as hp\n",
        "from tensorflow.keras import layers\n",
        "from tensorflow.keras.metrics import Accuracy,TruePositives,TrueNegatives,FalsePositives,FalseNegatives,Recall,Precision,AUC\n",
        "import zipfile\n",
        "import tensorflow_hub as hub\n",
        "\n",
        "from tensorflow.keras import layers"
      ]
    },
    {
      "cell_type": "code",
      "source": [
        "!pip install -U tf2onnx\n",
        "!pip install onnxruntime"
      ],
      "metadata": {
        "id": "mPG4fso0j1kY"
      },
      "execution_count": null,
      "outputs": []
    },
    {
      "cell_type": "code",
      "source": [
        "import tf2onnx\n",
        "import onnxruntime as rt"
      ],
      "metadata": {
        "id": "ANUgdAerj3c_"
      },
      "execution_count": null,
      "outputs": []
    },
    {
      "cell_type": "markdown",
      "source": [
        "Provide the specification for input. The tf2onnx will give two output.\n",
        "Directly pass the raw pretained model and provide the output path to save the .onnx format file."
      ],
      "metadata": {
        "id": "zJgj4FGXkOh5"
      }
    },
    {
      "cell_type": "code",
      "source": [
        "spec = (tf.TensorSpec((None,224,224,3),tf.float32,name=\"input\"),)\n",
        "model_proto, modl = tf2onnx.convert.from_keras(vit_model,\n",
        "                                               input_signature=spec,\n",
        "                                               opset=13,\n",
        "                                               output_path=\"vit.onnx\")\n",
        "output_names = [n.name for n in model_proto.graph.output]"
      ],
      "metadata": {
        "id": "Uzg_pxAUj8Ge"
      },
      "execution_count": null,
      "outputs": []
    },
    {
      "cell_type": "code",
      "source": [
        "img = cv.imread(\"/content/test/d12.jpg\")\n",
        "img = cv.resize(img,(224,224))\n",
        "img = img.astype(np.float32)\n",
        "img = np.expand_dims(img,axis=0)"
      ],
      "metadata": {
        "id": "j7ydZOgAj-bl"
      },
      "execution_count": null,
      "outputs": []
    },
    {
      "cell_type": "code",
      "source": [
        "providers = ['CPUExecutionProvider']\n",
        "\n",
        "m = rt.InferenceSession(\"vit.onnx\", providers=providers)\n",
        "onnx_pred = m.run(output_names, {\"input\": img})\n",
        "onnx_pred"
      ],
      "metadata": {
        "id": "y3GHSiSzkAYv"
      },
      "execution_count": null,
      "outputs": []
    },
    {
      "cell_type": "code",
      "source": [
        "class_names[np.argmax(onnx_pred)]"
      ],
      "metadata": {
        "id": "9rPyqNrxkCPN"
      },
      "execution_count": null,
      "outputs": []
    },
    {
      "cell_type": "markdown",
      "source": [
        "# Quantization with onnx"
      ],
      "metadata": {
        "id": "yssqIbi-TAxq"
      }
    },
    {
      "cell_type": "code",
      "source": [
        "from onnxruntime.quantization import quantize_dynamic,QuantType"
      ],
      "metadata": {
        "id": "EkX08d9gTEHW"
      },
      "execution_count": null,
      "outputs": []
    },
    {
      "cell_type": "code",
      "source": [
        "model_f32 = \"/content/vit.onnx\"\n",
        "model_quant = \"/content/vit_quantized.onnx\"\n",
        "\n",
        "quantized_model = quantize_dynamic(model_f32,model_quant,weight_type=QuantType.QUInt8)"
      ],
      "metadata": {
        "id": "e1NY__6ZTK7N"
      },
      "execution_count": null,
      "outputs": []
    },
    {
      "cell_type": "code",
      "source": [
        "providers = ['CPUExecutionProvider']\n",
        "\n",
        "m = rt.InferenceSession(\"vit_quantized.onnx\", providers=providers)\n",
        "onnx_pred = m.run(output_names, {\"input\": img})\n",
        "onnx_pred"
      ],
      "metadata": {
        "id": "YIPn6vsTTMiI"
      },
      "execution_count": null,
      "outputs": []
    },
    {
      "cell_type": "code",
      "source": [
        "class_names[np.argmax(onnx_pred)]"
      ],
      "metadata": {
        "id": "EG6HRTS2TOQB"
      },
      "execution_count": null,
      "outputs": []
    }
  ]
}
