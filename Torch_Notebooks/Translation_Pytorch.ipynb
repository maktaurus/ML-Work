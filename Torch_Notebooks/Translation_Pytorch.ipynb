{
  "cells": [
    {
      "cell_type": "markdown",
      "metadata": {
        "id": "view-in-github",
        "colab_type": "text"
      },
      "source": [
        "<a href=\"https://colab.research.google.com/github/maktaurus/ML-Work/blob/main/Torch_Notebooks/Translation_Pytorch.ipynb\" target=\"_parent\"><img src=\"https://colab.research.google.com/assets/colab-badge.svg\" alt=\"Open In Colab\"/></a>"
      ]
    },
    {
      "cell_type": "code",
      "execution_count": 1,
      "metadata": {
        "colab": {
          "base_uri": "https://localhost:8080/"
        },
        "id": "DNiVl-mZf8Z9",
        "outputId": "eaef573e-e404-4101-eff6-9a809b0612de"
      },
      "outputs": [
        {
          "output_type": "stream",
          "name": "stdout",
          "text": [
            "\u001b[2K   \u001b[90m━━━━━━━━━━━━━━━━━━━━━━━━━━━━━━━━━━━━━━━━\u001b[0m \u001b[32m815.2/815.2 kB\u001b[0m \u001b[31m11.9 MB/s\u001b[0m eta \u001b[36m0:00:00\u001b[0m\n",
            "\u001b[2K   \u001b[90m━━━━━━━━━━━━━━━━━━━━━━━━━━━━━━━━━━━━━━━━\u001b[0m \u001b[32m866.2/866.2 kB\u001b[0m \u001b[31m2.7 MB/s\u001b[0m eta \u001b[36m0:00:00\u001b[0m\n",
            "\u001b[?25h"
          ]
        }
      ],
      "source": [
        "pip install -q pytorch_lightning"
      ]
    },
    {
      "cell_type": "code",
      "source": [
        "import torch\n",
        "import pytorch_lightning as pl\n",
        "# from torchinfo import summary\n",
        "import pandas as pd\n",
        "import zipfile\n",
        "import sentencepiece as spm\n",
        "import numpy as np"
      ],
      "metadata": {
        "id": "UKLMz_H-gFPE"
      },
      "execution_count": 2,
      "outputs": []
    },
    {
      "cell_type": "code",
      "source": [
        "!kaggle datasets download devicharith/language-translation-englishfrench"
      ],
      "metadata": {
        "colab": {
          "base_uri": "https://localhost:8080/"
        },
        "id": "QSxys9NYgFMo",
        "outputId": "705e42f1-6146-4a9e-e1c5-943bd43c1253"
      },
      "execution_count": 3,
      "outputs": [
        {
          "output_type": "stream",
          "name": "stdout",
          "text": [
            "Dataset URL: https://www.kaggle.com/datasets/devicharith/language-translation-englishfrench\n",
            "License(s): CC0-1.0\n",
            "Downloading language-translation-englishfrench.zip to /content\n",
            "  0% 0.00/3.51M [00:00<?, ?B/s]\n",
            "100% 3.51M/3.51M [00:00<00:00, 104MB/s]\n"
          ]
        }
      ]
    },
    {
      "cell_type": "code",
      "source": [
        "data = zipfile.ZipFile('language-translation-englishfrench.zip').extractall()"
      ],
      "metadata": {
        "id": "zU10HD7rgFKE"
      },
      "execution_count": 4,
      "outputs": []
    },
    {
      "cell_type": "code",
      "source": [
        "data = pd.read_csv('/content/eng_-french.csv')\n",
        "data.head()"
      ],
      "metadata": {
        "colab": {
          "base_uri": "https://localhost:8080/",
          "height": 206
        },
        "id": "AmzOPJOSgFHN",
        "outputId": "438ffe60-1f2e-4636-acec-85c5bee5d038"
      },
      "execution_count": 5,
      "outputs": [
        {
          "output_type": "execute_result",
          "data": {
            "text/plain": [
              "  English words/sentences French words/sentences\n",
              "0                     Hi.                 Salut!\n",
              "1                    Run!                Cours !\n",
              "2                    Run!               Courez !\n",
              "3                    Who?                  Qui ?\n",
              "4                    Wow!             Ça alors !"
            ],
            "text/html": [
              "\n",
              "  <div id=\"df-cb3047dd-6c60-4b77-9c88-53376693e2cd\" class=\"colab-df-container\">\n",
              "    <div>\n",
              "<style scoped>\n",
              "    .dataframe tbody tr th:only-of-type {\n",
              "        vertical-align: middle;\n",
              "    }\n",
              "\n",
              "    .dataframe tbody tr th {\n",
              "        vertical-align: top;\n",
              "    }\n",
              "\n",
              "    .dataframe thead th {\n",
              "        text-align: right;\n",
              "    }\n",
              "</style>\n",
              "<table border=\"1\" class=\"dataframe\">\n",
              "  <thead>\n",
              "    <tr style=\"text-align: right;\">\n",
              "      <th></th>\n",
              "      <th>English words/sentences</th>\n",
              "      <th>French words/sentences</th>\n",
              "    </tr>\n",
              "  </thead>\n",
              "  <tbody>\n",
              "    <tr>\n",
              "      <th>0</th>\n",
              "      <td>Hi.</td>\n",
              "      <td>Salut!</td>\n",
              "    </tr>\n",
              "    <tr>\n",
              "      <th>1</th>\n",
              "      <td>Run!</td>\n",
              "      <td>Cours !</td>\n",
              "    </tr>\n",
              "    <tr>\n",
              "      <th>2</th>\n",
              "      <td>Run!</td>\n",
              "      <td>Courez !</td>\n",
              "    </tr>\n",
              "    <tr>\n",
              "      <th>3</th>\n",
              "      <td>Who?</td>\n",
              "      <td>Qui ?</td>\n",
              "    </tr>\n",
              "    <tr>\n",
              "      <th>4</th>\n",
              "      <td>Wow!</td>\n",
              "      <td>Ça alors !</td>\n",
              "    </tr>\n",
              "  </tbody>\n",
              "</table>\n",
              "</div>\n",
              "    <div class=\"colab-df-buttons\">\n",
              "\n",
              "  <div class=\"colab-df-container\">\n",
              "    <button class=\"colab-df-convert\" onclick=\"convertToInteractive('df-cb3047dd-6c60-4b77-9c88-53376693e2cd')\"\n",
              "            title=\"Convert this dataframe to an interactive table.\"\n",
              "            style=\"display:none;\">\n",
              "\n",
              "  <svg xmlns=\"http://www.w3.org/2000/svg\" height=\"24px\" viewBox=\"0 -960 960 960\">\n",
              "    <path d=\"M120-120v-720h720v720H120Zm60-500h600v-160H180v160Zm220 220h160v-160H400v160Zm0 220h160v-160H400v160ZM180-400h160v-160H180v160Zm440 0h160v-160H620v160ZM180-180h160v-160H180v160Zm440 0h160v-160H620v160Z\"/>\n",
              "  </svg>\n",
              "    </button>\n",
              "\n",
              "  <style>\n",
              "    .colab-df-container {\n",
              "      display:flex;\n",
              "      gap: 12px;\n",
              "    }\n",
              "\n",
              "    .colab-df-convert {\n",
              "      background-color: #E8F0FE;\n",
              "      border: none;\n",
              "      border-radius: 50%;\n",
              "      cursor: pointer;\n",
              "      display: none;\n",
              "      fill: #1967D2;\n",
              "      height: 32px;\n",
              "      padding: 0 0 0 0;\n",
              "      width: 32px;\n",
              "    }\n",
              "\n",
              "    .colab-df-convert:hover {\n",
              "      background-color: #E2EBFA;\n",
              "      box-shadow: 0px 1px 2px rgba(60, 64, 67, 0.3), 0px 1px 3px 1px rgba(60, 64, 67, 0.15);\n",
              "      fill: #174EA6;\n",
              "    }\n",
              "\n",
              "    .colab-df-buttons div {\n",
              "      margin-bottom: 4px;\n",
              "    }\n",
              "\n",
              "    [theme=dark] .colab-df-convert {\n",
              "      background-color: #3B4455;\n",
              "      fill: #D2E3FC;\n",
              "    }\n",
              "\n",
              "    [theme=dark] .colab-df-convert:hover {\n",
              "      background-color: #434B5C;\n",
              "      box-shadow: 0px 1px 3px 1px rgba(0, 0, 0, 0.15);\n",
              "      filter: drop-shadow(0px 1px 2px rgba(0, 0, 0, 0.3));\n",
              "      fill: #FFFFFF;\n",
              "    }\n",
              "  </style>\n",
              "\n",
              "    <script>\n",
              "      const buttonEl =\n",
              "        document.querySelector('#df-cb3047dd-6c60-4b77-9c88-53376693e2cd button.colab-df-convert');\n",
              "      buttonEl.style.display =\n",
              "        google.colab.kernel.accessAllowed ? 'block' : 'none';\n",
              "\n",
              "      async function convertToInteractive(key) {\n",
              "        const element = document.querySelector('#df-cb3047dd-6c60-4b77-9c88-53376693e2cd');\n",
              "        const dataTable =\n",
              "          await google.colab.kernel.invokeFunction('convertToInteractive',\n",
              "                                                    [key], {});\n",
              "        if (!dataTable) return;\n",
              "\n",
              "        const docLinkHtml = 'Like what you see? Visit the ' +\n",
              "          '<a target=\"_blank\" href=https://colab.research.google.com/notebooks/data_table.ipynb>data table notebook</a>'\n",
              "          + ' to learn more about interactive tables.';\n",
              "        element.innerHTML = '';\n",
              "        dataTable['output_type'] = 'display_data';\n",
              "        await google.colab.output.renderOutput(dataTable, element);\n",
              "        const docLink = document.createElement('div');\n",
              "        docLink.innerHTML = docLinkHtml;\n",
              "        element.appendChild(docLink);\n",
              "      }\n",
              "    </script>\n",
              "  </div>\n",
              "\n",
              "\n",
              "<div id=\"df-602dcc4b-8e0a-48db-b397-a8f674435d28\">\n",
              "  <button class=\"colab-df-quickchart\" onclick=\"quickchart('df-602dcc4b-8e0a-48db-b397-a8f674435d28')\"\n",
              "            title=\"Suggest charts\"\n",
              "            style=\"display:none;\">\n",
              "\n",
              "<svg xmlns=\"http://www.w3.org/2000/svg\" height=\"24px\"viewBox=\"0 0 24 24\"\n",
              "     width=\"24px\">\n",
              "    <g>\n",
              "        <path d=\"M19 3H5c-1.1 0-2 .9-2 2v14c0 1.1.9 2 2 2h14c1.1 0 2-.9 2-2V5c0-1.1-.9-2-2-2zM9 17H7v-7h2v7zm4 0h-2V7h2v10zm4 0h-2v-4h2v4z\"/>\n",
              "    </g>\n",
              "</svg>\n",
              "  </button>\n",
              "\n",
              "<style>\n",
              "  .colab-df-quickchart {\n",
              "      --bg-color: #E8F0FE;\n",
              "      --fill-color: #1967D2;\n",
              "      --hover-bg-color: #E2EBFA;\n",
              "      --hover-fill-color: #174EA6;\n",
              "      --disabled-fill-color: #AAA;\n",
              "      --disabled-bg-color: #DDD;\n",
              "  }\n",
              "\n",
              "  [theme=dark] .colab-df-quickchart {\n",
              "      --bg-color: #3B4455;\n",
              "      --fill-color: #D2E3FC;\n",
              "      --hover-bg-color: #434B5C;\n",
              "      --hover-fill-color: #FFFFFF;\n",
              "      --disabled-bg-color: #3B4455;\n",
              "      --disabled-fill-color: #666;\n",
              "  }\n",
              "\n",
              "  .colab-df-quickchart {\n",
              "    background-color: var(--bg-color);\n",
              "    border: none;\n",
              "    border-radius: 50%;\n",
              "    cursor: pointer;\n",
              "    display: none;\n",
              "    fill: var(--fill-color);\n",
              "    height: 32px;\n",
              "    padding: 0;\n",
              "    width: 32px;\n",
              "  }\n",
              "\n",
              "  .colab-df-quickchart:hover {\n",
              "    background-color: var(--hover-bg-color);\n",
              "    box-shadow: 0 1px 2px rgba(60, 64, 67, 0.3), 0 1px 3px 1px rgba(60, 64, 67, 0.15);\n",
              "    fill: var(--button-hover-fill-color);\n",
              "  }\n",
              "\n",
              "  .colab-df-quickchart-complete:disabled,\n",
              "  .colab-df-quickchart-complete:disabled:hover {\n",
              "    background-color: var(--disabled-bg-color);\n",
              "    fill: var(--disabled-fill-color);\n",
              "    box-shadow: none;\n",
              "  }\n",
              "\n",
              "  .colab-df-spinner {\n",
              "    border: 2px solid var(--fill-color);\n",
              "    border-color: transparent;\n",
              "    border-bottom-color: var(--fill-color);\n",
              "    animation:\n",
              "      spin 1s steps(1) infinite;\n",
              "  }\n",
              "\n",
              "  @keyframes spin {\n",
              "    0% {\n",
              "      border-color: transparent;\n",
              "      border-bottom-color: var(--fill-color);\n",
              "      border-left-color: var(--fill-color);\n",
              "    }\n",
              "    20% {\n",
              "      border-color: transparent;\n",
              "      border-left-color: var(--fill-color);\n",
              "      border-top-color: var(--fill-color);\n",
              "    }\n",
              "    30% {\n",
              "      border-color: transparent;\n",
              "      border-left-color: var(--fill-color);\n",
              "      border-top-color: var(--fill-color);\n",
              "      border-right-color: var(--fill-color);\n",
              "    }\n",
              "    40% {\n",
              "      border-color: transparent;\n",
              "      border-right-color: var(--fill-color);\n",
              "      border-top-color: var(--fill-color);\n",
              "    }\n",
              "    60% {\n",
              "      border-color: transparent;\n",
              "      border-right-color: var(--fill-color);\n",
              "    }\n",
              "    80% {\n",
              "      border-color: transparent;\n",
              "      border-right-color: var(--fill-color);\n",
              "      border-bottom-color: var(--fill-color);\n",
              "    }\n",
              "    90% {\n",
              "      border-color: transparent;\n",
              "      border-bottom-color: var(--fill-color);\n",
              "    }\n",
              "  }\n",
              "</style>\n",
              "\n",
              "  <script>\n",
              "    async function quickchart(key) {\n",
              "      const quickchartButtonEl =\n",
              "        document.querySelector('#' + key + ' button');\n",
              "      quickchartButtonEl.disabled = true;  // To prevent multiple clicks.\n",
              "      quickchartButtonEl.classList.add('colab-df-spinner');\n",
              "      try {\n",
              "        const charts = await google.colab.kernel.invokeFunction(\n",
              "            'suggestCharts', [key], {});\n",
              "      } catch (error) {\n",
              "        console.error('Error during call to suggestCharts:', error);\n",
              "      }\n",
              "      quickchartButtonEl.classList.remove('colab-df-spinner');\n",
              "      quickchartButtonEl.classList.add('colab-df-quickchart-complete');\n",
              "    }\n",
              "    (() => {\n",
              "      let quickchartButtonEl =\n",
              "        document.querySelector('#df-602dcc4b-8e0a-48db-b397-a8f674435d28 button');\n",
              "      quickchartButtonEl.style.display =\n",
              "        google.colab.kernel.accessAllowed ? 'block' : 'none';\n",
              "    })();\n",
              "  </script>\n",
              "</div>\n",
              "\n",
              "    </div>\n",
              "  </div>\n"
            ],
            "application/vnd.google.colaboratory.intrinsic+json": {
              "type": "dataframe",
              "variable_name": "data"
            }
          },
          "metadata": {},
          "execution_count": 5
        }
      ]
    },
    {
      "cell_type": "code",
      "source": [
        "# data[\"English words/sentences\"] = data[\"English words/sentences\"]\n",
        "data[\"target\"] = data[\"French words/sentences\"] + \"<eos>\"\n",
        "data[\"French words/sentences\"] = \"<sos>\" + data[\"French words/sentences\"]\n",
        "data.head()"
      ],
      "metadata": {
        "colab": {
          "base_uri": "https://localhost:8080/",
          "height": 206
        },
        "id": "flR2wYMGgFEn",
        "outputId": "bc34a7bc-bfe6-4717-d5a7-e932da25034b"
      },
      "execution_count": 6,
      "outputs": [
        {
          "output_type": "execute_result",
          "data": {
            "text/plain": [
              "  English words/sentences French words/sentences           target\n",
              "0                     Hi.            <sos>Salut!      Salut!<eos>\n",
              "1                    Run!           <sos>Cours !     Cours !<eos>\n",
              "2                    Run!          <sos>Courez !    Courez !<eos>\n",
              "3                    Who?             <sos>Qui ?       Qui ?<eos>\n",
              "4                    Wow!        <sos>Ça alors !  Ça alors !<eos>"
            ],
            "text/html": [
              "\n",
              "  <div id=\"df-ada6298f-6605-45b4-a8a7-e9c321a05d78\" class=\"colab-df-container\">\n",
              "    <div>\n",
              "<style scoped>\n",
              "    .dataframe tbody tr th:only-of-type {\n",
              "        vertical-align: middle;\n",
              "    }\n",
              "\n",
              "    .dataframe tbody tr th {\n",
              "        vertical-align: top;\n",
              "    }\n",
              "\n",
              "    .dataframe thead th {\n",
              "        text-align: right;\n",
              "    }\n",
              "</style>\n",
              "<table border=\"1\" class=\"dataframe\">\n",
              "  <thead>\n",
              "    <tr style=\"text-align: right;\">\n",
              "      <th></th>\n",
              "      <th>English words/sentences</th>\n",
              "      <th>French words/sentences</th>\n",
              "      <th>target</th>\n",
              "    </tr>\n",
              "  </thead>\n",
              "  <tbody>\n",
              "    <tr>\n",
              "      <th>0</th>\n",
              "      <td>Hi.</td>\n",
              "      <td>&lt;sos&gt;Salut!</td>\n",
              "      <td>Salut!&lt;eos&gt;</td>\n",
              "    </tr>\n",
              "    <tr>\n",
              "      <th>1</th>\n",
              "      <td>Run!</td>\n",
              "      <td>&lt;sos&gt;Cours !</td>\n",
              "      <td>Cours !&lt;eos&gt;</td>\n",
              "    </tr>\n",
              "    <tr>\n",
              "      <th>2</th>\n",
              "      <td>Run!</td>\n",
              "      <td>&lt;sos&gt;Courez !</td>\n",
              "      <td>Courez !&lt;eos&gt;</td>\n",
              "    </tr>\n",
              "    <tr>\n",
              "      <th>3</th>\n",
              "      <td>Who?</td>\n",
              "      <td>&lt;sos&gt;Qui ?</td>\n",
              "      <td>Qui ?&lt;eos&gt;</td>\n",
              "    </tr>\n",
              "    <tr>\n",
              "      <th>4</th>\n",
              "      <td>Wow!</td>\n",
              "      <td>&lt;sos&gt;Ça alors !</td>\n",
              "      <td>Ça alors !&lt;eos&gt;</td>\n",
              "    </tr>\n",
              "  </tbody>\n",
              "</table>\n",
              "</div>\n",
              "    <div class=\"colab-df-buttons\">\n",
              "\n",
              "  <div class=\"colab-df-container\">\n",
              "    <button class=\"colab-df-convert\" onclick=\"convertToInteractive('df-ada6298f-6605-45b4-a8a7-e9c321a05d78')\"\n",
              "            title=\"Convert this dataframe to an interactive table.\"\n",
              "            style=\"display:none;\">\n",
              "\n",
              "  <svg xmlns=\"http://www.w3.org/2000/svg\" height=\"24px\" viewBox=\"0 -960 960 960\">\n",
              "    <path d=\"M120-120v-720h720v720H120Zm60-500h600v-160H180v160Zm220 220h160v-160H400v160Zm0 220h160v-160H400v160ZM180-400h160v-160H180v160Zm440 0h160v-160H620v160ZM180-180h160v-160H180v160Zm440 0h160v-160H620v160Z\"/>\n",
              "  </svg>\n",
              "    </button>\n",
              "\n",
              "  <style>\n",
              "    .colab-df-container {\n",
              "      display:flex;\n",
              "      gap: 12px;\n",
              "    }\n",
              "\n",
              "    .colab-df-convert {\n",
              "      background-color: #E8F0FE;\n",
              "      border: none;\n",
              "      border-radius: 50%;\n",
              "      cursor: pointer;\n",
              "      display: none;\n",
              "      fill: #1967D2;\n",
              "      height: 32px;\n",
              "      padding: 0 0 0 0;\n",
              "      width: 32px;\n",
              "    }\n",
              "\n",
              "    .colab-df-convert:hover {\n",
              "      background-color: #E2EBFA;\n",
              "      box-shadow: 0px 1px 2px rgba(60, 64, 67, 0.3), 0px 1px 3px 1px rgba(60, 64, 67, 0.15);\n",
              "      fill: #174EA6;\n",
              "    }\n",
              "\n",
              "    .colab-df-buttons div {\n",
              "      margin-bottom: 4px;\n",
              "    }\n",
              "\n",
              "    [theme=dark] .colab-df-convert {\n",
              "      background-color: #3B4455;\n",
              "      fill: #D2E3FC;\n",
              "    }\n",
              "\n",
              "    [theme=dark] .colab-df-convert:hover {\n",
              "      background-color: #434B5C;\n",
              "      box-shadow: 0px 1px 3px 1px rgba(0, 0, 0, 0.15);\n",
              "      filter: drop-shadow(0px 1px 2px rgba(0, 0, 0, 0.3));\n",
              "      fill: #FFFFFF;\n",
              "    }\n",
              "  </style>\n",
              "\n",
              "    <script>\n",
              "      const buttonEl =\n",
              "        document.querySelector('#df-ada6298f-6605-45b4-a8a7-e9c321a05d78 button.colab-df-convert');\n",
              "      buttonEl.style.display =\n",
              "        google.colab.kernel.accessAllowed ? 'block' : 'none';\n",
              "\n",
              "      async function convertToInteractive(key) {\n",
              "        const element = document.querySelector('#df-ada6298f-6605-45b4-a8a7-e9c321a05d78');\n",
              "        const dataTable =\n",
              "          await google.colab.kernel.invokeFunction('convertToInteractive',\n",
              "                                                    [key], {});\n",
              "        if (!dataTable) return;\n",
              "\n",
              "        const docLinkHtml = 'Like what you see? Visit the ' +\n",
              "          '<a target=\"_blank\" href=https://colab.research.google.com/notebooks/data_table.ipynb>data table notebook</a>'\n",
              "          + ' to learn more about interactive tables.';\n",
              "        element.innerHTML = '';\n",
              "        dataTable['output_type'] = 'display_data';\n",
              "        await google.colab.output.renderOutput(dataTable, element);\n",
              "        const docLink = document.createElement('div');\n",
              "        docLink.innerHTML = docLinkHtml;\n",
              "        element.appendChild(docLink);\n",
              "      }\n",
              "    </script>\n",
              "  </div>\n",
              "\n",
              "\n",
              "<div id=\"df-4f599e35-88eb-47e0-a12a-49c03e0f7780\">\n",
              "  <button class=\"colab-df-quickchart\" onclick=\"quickchart('df-4f599e35-88eb-47e0-a12a-49c03e0f7780')\"\n",
              "            title=\"Suggest charts\"\n",
              "            style=\"display:none;\">\n",
              "\n",
              "<svg xmlns=\"http://www.w3.org/2000/svg\" height=\"24px\"viewBox=\"0 0 24 24\"\n",
              "     width=\"24px\">\n",
              "    <g>\n",
              "        <path d=\"M19 3H5c-1.1 0-2 .9-2 2v14c0 1.1.9 2 2 2h14c1.1 0 2-.9 2-2V5c0-1.1-.9-2-2-2zM9 17H7v-7h2v7zm4 0h-2V7h2v10zm4 0h-2v-4h2v4z\"/>\n",
              "    </g>\n",
              "</svg>\n",
              "  </button>\n",
              "\n",
              "<style>\n",
              "  .colab-df-quickchart {\n",
              "      --bg-color: #E8F0FE;\n",
              "      --fill-color: #1967D2;\n",
              "      --hover-bg-color: #E2EBFA;\n",
              "      --hover-fill-color: #174EA6;\n",
              "      --disabled-fill-color: #AAA;\n",
              "      --disabled-bg-color: #DDD;\n",
              "  }\n",
              "\n",
              "  [theme=dark] .colab-df-quickchart {\n",
              "      --bg-color: #3B4455;\n",
              "      --fill-color: #D2E3FC;\n",
              "      --hover-bg-color: #434B5C;\n",
              "      --hover-fill-color: #FFFFFF;\n",
              "      --disabled-bg-color: #3B4455;\n",
              "      --disabled-fill-color: #666;\n",
              "  }\n",
              "\n",
              "  .colab-df-quickchart {\n",
              "    background-color: var(--bg-color);\n",
              "    border: none;\n",
              "    border-radius: 50%;\n",
              "    cursor: pointer;\n",
              "    display: none;\n",
              "    fill: var(--fill-color);\n",
              "    height: 32px;\n",
              "    padding: 0;\n",
              "    width: 32px;\n",
              "  }\n",
              "\n",
              "  .colab-df-quickchart:hover {\n",
              "    background-color: var(--hover-bg-color);\n",
              "    box-shadow: 0 1px 2px rgba(60, 64, 67, 0.3), 0 1px 3px 1px rgba(60, 64, 67, 0.15);\n",
              "    fill: var(--button-hover-fill-color);\n",
              "  }\n",
              "\n",
              "  .colab-df-quickchart-complete:disabled,\n",
              "  .colab-df-quickchart-complete:disabled:hover {\n",
              "    background-color: var(--disabled-bg-color);\n",
              "    fill: var(--disabled-fill-color);\n",
              "    box-shadow: none;\n",
              "  }\n",
              "\n",
              "  .colab-df-spinner {\n",
              "    border: 2px solid var(--fill-color);\n",
              "    border-color: transparent;\n",
              "    border-bottom-color: var(--fill-color);\n",
              "    animation:\n",
              "      spin 1s steps(1) infinite;\n",
              "  }\n",
              "\n",
              "  @keyframes spin {\n",
              "    0% {\n",
              "      border-color: transparent;\n",
              "      border-bottom-color: var(--fill-color);\n",
              "      border-left-color: var(--fill-color);\n",
              "    }\n",
              "    20% {\n",
              "      border-color: transparent;\n",
              "      border-left-color: var(--fill-color);\n",
              "      border-top-color: var(--fill-color);\n",
              "    }\n",
              "    30% {\n",
              "      border-color: transparent;\n",
              "      border-left-color: var(--fill-color);\n",
              "      border-top-color: var(--fill-color);\n",
              "      border-right-color: var(--fill-color);\n",
              "    }\n",
              "    40% {\n",
              "      border-color: transparent;\n",
              "      border-right-color: var(--fill-color);\n",
              "      border-top-color: var(--fill-color);\n",
              "    }\n",
              "    60% {\n",
              "      border-color: transparent;\n",
              "      border-right-color: var(--fill-color);\n",
              "    }\n",
              "    80% {\n",
              "      border-color: transparent;\n",
              "      border-right-color: var(--fill-color);\n",
              "      border-bottom-color: var(--fill-color);\n",
              "    }\n",
              "    90% {\n",
              "      border-color: transparent;\n",
              "      border-bottom-color: var(--fill-color);\n",
              "    }\n",
              "  }\n",
              "</style>\n",
              "\n",
              "  <script>\n",
              "    async function quickchart(key) {\n",
              "      const quickchartButtonEl =\n",
              "        document.querySelector('#' + key + ' button');\n",
              "      quickchartButtonEl.disabled = true;  // To prevent multiple clicks.\n",
              "      quickchartButtonEl.classList.add('colab-df-spinner');\n",
              "      try {\n",
              "        const charts = await google.colab.kernel.invokeFunction(\n",
              "            'suggestCharts', [key], {});\n",
              "      } catch (error) {\n",
              "        console.error('Error during call to suggestCharts:', error);\n",
              "      }\n",
              "      quickchartButtonEl.classList.remove('colab-df-spinner');\n",
              "      quickchartButtonEl.classList.add('colab-df-quickchart-complete');\n",
              "    }\n",
              "    (() => {\n",
              "      let quickchartButtonEl =\n",
              "        document.querySelector('#df-4f599e35-88eb-47e0-a12a-49c03e0f7780 button');\n",
              "      quickchartButtonEl.style.display =\n",
              "        google.colab.kernel.accessAllowed ? 'block' : 'none';\n",
              "    })();\n",
              "  </script>\n",
              "</div>\n",
              "\n",
              "    </div>\n",
              "  </div>\n"
            ],
            "application/vnd.google.colaboratory.intrinsic+json": {
              "type": "dataframe",
              "variable_name": "data"
            }
          },
          "metadata": {},
          "execution_count": 6
        }
      ]
    },
    {
      "cell_type": "code",
      "source": [
        "class MyDataSet(torch.utils.data.Dataset):\n",
        "  def __init__(self,data):\n",
        "    self.data = data\n",
        "\n",
        "  def __len__(self):\n",
        "    return len(self.data)\n",
        "\n",
        "  def __getitem__(self,idx):\n",
        "    en = self.data.iloc[idx,0]\n",
        "    fr = self.data.iloc[idx,1]\n",
        "    tar = self.data.iloc[idx,2]\n",
        "    return en,fr,tar\n",
        "\n",
        "df = MyDataSet(data)"
      ],
      "metadata": {
        "id": "v9aF5GCDgFBp"
      },
      "execution_count": 7,
      "outputs": []
    },
    {
      "cell_type": "code",
      "source": [
        "for x in df:\n",
        "  print(x)\n",
        "  break"
      ],
      "metadata": {
        "colab": {
          "base_uri": "https://localhost:8080/"
        },
        "id": "VEFtrUWngE_R",
        "outputId": "56a2fed1-8304-4b8c-8d6c-3c7c716d7508"
      },
      "execution_count": 8,
      "outputs": [
        {
          "output_type": "stream",
          "name": "stdout",
          "text": [
            "('Hi.', '<sos>Salut!', 'Salut!<eos>')\n"
          ]
        }
      ]
    },
    {
      "cell_type": "code",
      "source": [
        "with open(\"eng.txt\",\"w\") as f:\n",
        "  for x in df:\n",
        "    f.write(x[0]+\"\\n\")\n",
        "\n",
        "with open(\"fre.txt\",\"w\") as f:\n",
        "  for x in df:\n",
        "    f.write(x[0]+\"\\n\")"
      ],
      "metadata": {
        "id": "AEQlv_DTgE8x"
      },
      "execution_count": 9,
      "outputs": []
    },
    {
      "cell_type": "code",
      "source": [
        "en_options = dict(\n",
        "    input = \"eng.txt\",\n",
        "    model_prefix = \"eng\",\n",
        "    vocab_size = 4000,\n",
        "    model_type = \"bpe\",\n",
        "    user_defined_symbols = [\"<sos>\",\"<eos>\"],\n",
        "    split_digits = True,\n",
        "    max_sentencepiece_length = 64,\n",
        "    byte_fallback = True,\n",
        "    character_coverage = 0.9995,\n",
        "    split_by_whitespace = True,\n",
        "    pad_id = 0,\n",
        "    unk_id = 1,\n",
        "    bos_id = 2,\n",
        "    eos_id = 3\n",
        ")\n",
        "\n",
        "fr_options = dict(\n",
        "    input = \"fre.txt\",\n",
        "    model_prefix = \"fre\",\n",
        "    vocab_size = 4000,\n",
        "    model_type = \"bpe\",\n",
        "    user_defined_symbols = [\"<sos>\",\"<eos>\"],\n",
        "    split_digits = True,\n",
        "    max_sentencepiece_length = 64,\n",
        "    byte_fallback = True,\n",
        "    character_coverage = 0.9995,\n",
        "    split_by_whitespace = True,\n",
        "    pad_id = 0,\n",
        "    unk_id = 1,\n",
        "    bos_id = 2,\n",
        "    eos_id = 3\n",
        ")"
      ],
      "metadata": {
        "id": "SajZUmLQgE6N"
      },
      "execution_count": 10,
      "outputs": []
    },
    {
      "cell_type": "code",
      "source": [
        "spm.SentencePieceTrainer.train(**en_options)\n",
        "spm.SentencePieceTrainer.train(**fr_options)"
      ],
      "metadata": {
        "id": "rLAGSCsXgE3W"
      },
      "execution_count": 11,
      "outputs": []
    },
    {
      "cell_type": "code",
      "source": [
        "en_encoder = spm.SentencePieceProcessor()\n",
        "en_encoder.load(\"eng.model\")\n",
        "\n",
        "fr_encoder = spm.SentencePieceProcessor()\n",
        "fr_encoder.load(\"fre.model\")"
      ],
      "metadata": {
        "colab": {
          "base_uri": "https://localhost:8080/"
        },
        "id": "E4ZwO-2HgE0x",
        "outputId": "1d92daa2-b20f-421d-f523-5a375bece99b"
      },
      "execution_count": 12,
      "outputs": [
        {
          "output_type": "execute_result",
          "data": {
            "text/plain": [
              "True"
            ]
          },
          "metadata": {},
          "execution_count": 12
        }
      ]
    },
    {
      "cell_type": "code",
      "source": [
        "en_encoder.encode(\"Hello there\")"
      ],
      "metadata": {
        "colab": {
          "base_uri": "https://localhost:8080/"
        },
        "id": "FZfjuPnU2A8N",
        "outputId": "cd94bf5c-781c-48ab-b28c-738458499032"
      },
      "execution_count": 13,
      "outputs": [
        {
          "output_type": "execute_result",
          "data": {
            "text/plain": [
              "[336, 3618, 520]"
            ]
          },
          "metadata": {},
          "execution_count": 13
        }
      ]
    },
    {
      "cell_type": "code",
      "source": [
        "en_encoder.id_to_piece([3333, 3624, 511,0])"
      ],
      "metadata": {
        "colab": {
          "base_uri": "https://localhost:8080/"
        },
        "id": "KyKjcGT1UnsE",
        "outputId": "7f814f93-2c35-4934-de07-8d30b21a0108"
      },
      "execution_count": 14,
      "outputs": [
        {
          "output_type": "execute_result",
          "data": {
            "text/plain": [
              "['lies', 'lect', '▁too', '<pad>']"
            ]
          },
          "metadata": {},
          "execution_count": 14
        }
      ]
    },
    {
      "cell_type": "code",
      "source": [
        "en_encoder.decode(4)"
      ],
      "metadata": {
        "colab": {
          "base_uri": "https://localhost:8080/",
          "height": 35
        },
        "id": "0M7kdOyTVKU8",
        "outputId": "6c41a69c-c3d9-4701-9219-092e10986fe1"
      },
      "execution_count": 15,
      "outputs": [
        {
          "output_type": "execute_result",
          "data": {
            "text/plain": [
              "'<sos>'"
            ],
            "application/vnd.google.colaboratory.intrinsic+json": {
              "type": "string"
            }
          },
          "metadata": {},
          "execution_count": 15
        }
      ]
    },
    {
      "cell_type": "code",
      "source": [
        "pad = torch.nn.ConstantPad1d((0,100),0)"
      ],
      "metadata": {
        "id": "jWQMpv0AgEyF"
      },
      "execution_count": 16,
      "outputs": []
    },
    {
      "cell_type": "code",
      "source": [
        "def collate_fn(batch):\n",
        "  en = torch.stack([pad(torch.tensor(en_encoder.encode(x[0])))[:64] for x in batch])\n",
        "  fr = torch.stack([pad(torch.tensor(fr_encoder.encode(x[1])))[:64] for x in batch])\n",
        "  tgt = torch.stack([pad(torch.tensor(fr_encoder.encode(x[2])))[:64] for x in batch])\n",
        "  return en,fr,tgt"
      ],
      "metadata": {
        "id": "Z4UKbWWEgEvV"
      },
      "execution_count": 17,
      "outputs": []
    },
    {
      "cell_type": "code",
      "source": [
        "len(df)"
      ],
      "metadata": {
        "colab": {
          "base_uri": "https://localhost:8080/"
        },
        "id": "WSh6K75zguW8",
        "outputId": "593118b9-f898-49ae-c658-dfd07355f423"
      },
      "execution_count": 18,
      "outputs": [
        {
          "output_type": "execute_result",
          "data": {
            "text/plain": [
              "175621"
            ]
          },
          "metadata": {},
          "execution_count": 18
        }
      ]
    },
    {
      "cell_type": "code",
      "source": [
        "train, val = torch.utils.data.random_split(df,[170000,5621])"
      ],
      "metadata": {
        "id": "SsRqbm04gEsr"
      },
      "execution_count": 19,
      "outputs": []
    },
    {
      "cell_type": "code",
      "source": [
        "train_df = torch.utils.data.DataLoader(df,batch_size=128,shuffle=True,collate_fn=collate_fn)\n",
        "val_df = torch.utils.data.DataLoader(val,batch_size=128,collate_fn=collate_fn)"
      ],
      "metadata": {
        "id": "e8OLkl3NgEp1"
      },
      "execution_count": 20,
      "outputs": []
    },
    {
      "cell_type": "code",
      "source": [
        "for x in train_df:\n",
        "  print(en_encoder.decode(x[0][0].tolist()))\n",
        "  print(x[0][0])\n",
        "  print(x[1][0])\n",
        "  print(fr_encoder.decode(x[2][0].tolist()))\n",
        "  break"
      ],
      "metadata": {
        "colab": {
          "base_uri": "https://localhost:8080/"
        },
        "id": "5xOQpow7ALh5",
        "outputId": "bea9d50d-d17b-4469-8c92-f2a7ddb38679"
      },
      "execution_count": 89,
      "outputs": [
        {
          "output_type": "stream",
          "name": "stdout",
          "text": [
            "I'm not even sure if this is my key.\n",
            "tensor([ 266, 3965, 3958,  363, 1094,  654,  585,  355,  308,  368, 1698, 3956,\n",
            "           0,    0,    0,    0,    0,    0,    0,    0,    0,    0,    0,    0,\n",
            "           0,    0,    0,    0,    0,    0,    0,    0,    0,    0,    0,    0,\n",
            "           0,    0,    0,    0,    0,    0,    0,    0,    0,    0,    0,    0,\n",
            "           0,    0,    0,    0,    0,    0,    0,    0,    0,    0,    0,    0,\n",
            "           0,    0,    0,    0])\n",
            "tensor([3943,    4, 3993, 3944,  357,  407,  277,  278,  201,  176, 3828,  298,\n",
            "         301,  270,  201,  193, 3952,  561, 3944, 2171,  429,  291, 2403,  598,\n",
            "         201,  175, 3956,    0,    0,    0,    0,    0,    0,    0,    0,    0,\n",
            "           0,    0,    0,    0,    0,    0,    0,    0,    0,    0,    0,    0,\n",
            "           0,    0,    0,    0,    0,    0,    0,    0,    0,    0,    0,    0,\n",
            "           0,    0,    0,    0])\n",
            "Je ne suis même pas sûr que ce soit ma clé.<eos>\n"
          ]
        }
      ]
    },
    {
      "cell_type": "code",
      "source": [
        "en_encoder.decode([1527,  527, 2875, 3085,  320,  273,  974, 3970,    0,    0,    0,    0,\n",
        "           0,    0,    0,    0,    0,    0,    0,    0,    0,    0,    0,    0,\n",
        "           0,    0,    0,    0,    0,    0,    0,    0,    0,    0,    0,    0,\n",
        "           0,    0,    0,    0,    0,    0,    0,    0,    0,    0,    0,    0,\n",
        "           0,    0,    0,    0,    0,    0,    0,    0,    0,    0,    0,    0,\n",
        "           0,    0,    0,    0])"
      ],
      "metadata": {
        "colab": {
          "base_uri": "https://localhost:8080/",
          "height": 35
        },
        "id": "70t_i1kpAb0U",
        "outputId": "8020933c-a4a4-41bd-f957-bdfcf5b1bbc0"
      },
      "execution_count": 22,
      "outputs": [
        {
          "output_type": "execute_result",
          "data": {
            "text/plain": [
              "'Which search engine do you use?'"
            ],
            "application/vnd.google.colaboratory.intrinsic+json": {
              "type": "string"
            }
          },
          "metadata": {},
          "execution_count": 22
        }
      ]
    },
    {
      "cell_type": "code",
      "source": [
        "en_encoder.pad_id()"
      ],
      "metadata": {
        "colab": {
          "base_uri": "https://localhost:8080/"
        },
        "id": "8VJFbVoLAqDd",
        "outputId": "90bbfc8b-aaf6-4372-9257-9ac6cb336b90"
      },
      "execution_count": 23,
      "outputs": [
        {
          "output_type": "execute_result",
          "data": {
            "text/plain": [
              "0"
            ]
          },
          "metadata": {},
          "execution_count": 23
        }
      ]
    },
    {
      "cell_type": "code",
      "source": [
        "device = (\"cuda\" if torch.cuda.is_available() else \"cpu\")"
      ],
      "metadata": {
        "id": "_C4S2P7DgEnF"
      },
      "execution_count": 24,
      "outputs": []
    },
    {
      "cell_type": "markdown",
      "source": [
        "**Positional encoding** is a technique used in transformer models to inject information about the position of tokens in a sequence. Positional encoding helps the model understand the order of tokens, which is crucial for tasks like language translation and text generation."
      ],
      "metadata": {
        "id": "tmz3-2XMVdis"
      }
    },
    {
      "cell_type": "code",
      "source": [
        "def positional_encoding(seq_len,emb_dim):\n",
        "  pos = torch.arange(seq_len,dtype=torch.float).unsqueeze(1)\n",
        "  div = torch.exp(torch.arange(0,emb_dim,2).float() * (-torch.log(torch.tensor(10000.0)) / emb_dim))\n",
        "  pos_enc = torch.zeros(seq_len,emb_dim)\n",
        "  pos_enc[:,0::2] = torch.sin(pos * div)\n",
        "  pos_enc[:,1::2] = torch.cos(pos * div)\n",
        "  return pos_enc"
      ],
      "metadata": {
        "id": "bN00cdrIgEkt"
      },
      "execution_count": 25,
      "outputs": []
    },
    {
      "cell_type": "markdown",
      "source": [
        "**src_mask:** This is used to mask out certain positions in the source sequence. It’s typically a square matrix (size (N \\times N), where (N) is the sequence length) that prevents the model from attending to future tokens in autoregressive models. For example, in a sequence-to-sequence model, this mask ensures that the model only attends to previous tokens and not future ones.\n",
        "\n",
        "**tgt_mask:** Similar to src_mask, but for the target sequence. It ensures that the model only attends to previous tokens in the target sequence during training. This is crucial for tasks like language modeling where the model should not see future tokens.\n",
        "\n",
        "**src_key_padding_mask:** This mask is used to ignore padding tokens in the source sequence. It’s a binary mask (size ( \\text{batch_size} \\times N )) where padding positions are marked, ensuring that the model does not attend to these positions.\n",
        "\n",
        "**tgt_key_padding_mask:** Similar to src_key_padding_mask, but for the target sequence. It masks out padding tokens in the target sequence to prevent the model from attending to them.\n"
      ],
      "metadata": {
        "id": "zydrHFZuUo6y"
      }
    },
    {
      "cell_type": "code",
      "source": [
        "def create_mask(src, tgt):\n",
        "    src_seq_len = src.shape[1]\n",
        "    tgt_seq_len = tgt.shape[1]\n",
        "\n",
        "    tgt_mask = torch.nn.Transformer.generate_square_subsequent_mask(tgt_seq_len)\n",
        "    src_mask = torch.zeros((src_seq_len, src_seq_len),device=device).type(torch.bool)\n",
        "\n",
        "    src_padding_mask = (src == 0)\n",
        "    tgt_padding_mask = (tgt == 0)\n",
        "    return src_mask.to(device), tgt_mask.to(device), src_padding_mask.to(device), tgt_padding_mask.to(device)"
      ],
      "metadata": {
        "id": "0I36F_qllhYC"
      },
      "execution_count": 26,
      "outputs": []
    },
    {
      "cell_type": "code",
      "source": [
        "pos = positional_encoding(64,256)\n",
        "emb = torch.nn.Embedding(4000,256)\n",
        "for x in train_df:\n",
        "  en,fr,tgt = x\n",
        "  ss = emb(en) + pos\n",
        "  src_mask, tgt_mask, src_padding_mask, tgt_padding_mask = create_mask(x[0],x[1])\n",
        "  print(src_mask[2])\n",
        "  print(tgt_mask[2])\n",
        "  print(src_padding_mask[2])\n",
        "  print(tgt_padding_mask.shape)\n",
        "  print(x[0][0])\n",
        "  break"
      ],
      "metadata": {
        "colab": {
          "base_uri": "https://localhost:8080/"
        },
        "id": "9sYXEjIDnP8V",
        "outputId": "3fc20730-7aab-4d4e-9d5a-764b42118a69"
      },
      "execution_count": 27,
      "outputs": [
        {
          "output_type": "stream",
          "name": "stdout",
          "text": [
            "tensor([False, False, False, False, False, False, False, False, False, False,\n",
            "        False, False, False, False, False, False, False, False, False, False,\n",
            "        False, False, False, False, False, False, False, False, False, False,\n",
            "        False, False, False, False, False, False, False, False, False, False,\n",
            "        False, False, False, False, False, False, False, False, False, False,\n",
            "        False, False, False, False, False, False, False, False, False, False,\n",
            "        False, False, False, False], device='cuda:0')\n",
            "tensor([0., 0., 0., -inf, -inf, -inf, -inf, -inf, -inf, -inf, -inf, -inf, -inf, -inf, -inf, -inf, -inf, -inf, -inf, -inf, -inf, -inf, -inf, -inf,\n",
            "        -inf, -inf, -inf, -inf, -inf, -inf, -inf, -inf, -inf, -inf, -inf, -inf, -inf, -inf, -inf, -inf, -inf, -inf, -inf, -inf, -inf, -inf, -inf, -inf,\n",
            "        -inf, -inf, -inf, -inf, -inf, -inf, -inf, -inf, -inf, -inf, -inf, -inf, -inf, -inf, -inf, -inf],\n",
            "       device='cuda:0')\n",
            "tensor([False, False, False, False, False, False, False, False,  True,  True,\n",
            "         True,  True,  True,  True,  True,  True,  True,  True,  True,  True,\n",
            "         True,  True,  True,  True,  True,  True,  True,  True,  True,  True,\n",
            "         True,  True,  True,  True,  True,  True,  True,  True,  True,  True,\n",
            "         True,  True,  True,  True,  True,  True,  True,  True,  True,  True,\n",
            "         True,  True,  True,  True,  True,  True,  True,  True,  True,  True,\n",
            "         True,  True,  True,  True], device='cuda:0')\n",
            "torch.Size([128, 64])\n",
            "tensor([ 479, 3965, 3946, 1590,  274,  325, 3956,    0,    0,    0,    0,    0,\n",
            "           0,    0,    0,    0,    0,    0,    0,    0,    0,    0,    0,    0,\n",
            "           0,    0,    0,    0,    0,    0,    0,    0,    0,    0,    0,    0,\n",
            "           0,    0,    0,    0,    0,    0,    0,    0,    0,    0,    0,    0,\n",
            "           0,    0,    0,    0,    0,    0,    0,    0,    0,    0,    0,    0,\n",
            "           0,    0,    0,    0])\n"
          ]
        }
      ]
    },
    {
      "cell_type": "code",
      "source": [
        "class Transformer(torch.nn.Module):\n",
        "  def __init__(self,emb_dim, vocab_size, num_layers, num_heads, dropout, pos_enc):\n",
        "    super().__init__()\n",
        "    self.src_emb = torch.nn.Embedding(vocab_size,emb_dim)\n",
        "    self.tgt_emb = torch.nn.Embedding(vocab_size,emb_dim)\n",
        "    self.pos_layer = pos_enc(64,emb_dim).to(device)\n",
        "    self.transformer = torch.nn.Transformer(d_model=emb_dim,nhead=num_heads,num_encoder_layers=num_layers,num_decoder_layers=num_layers,dim_feedforward=1048,dropout=dropout,batch_first=True)\n",
        "    self.lin = torch.nn.Linear(emb_dim,1048)\n",
        "    self.relu = torch.nn.ReLU()\n",
        "    self.out_layer = torch.nn.Linear(1048,vocab_size)\n",
        "\n",
        "  def forward(self,src,tgt):\n",
        "    # src_mask, tgt_mask, src_padding_mask, tgt_padding_mask = create_mask(src,tgt)\n",
        "    # src_mask = torch.zeros((src.shape[1], src.shape[1]),device=device).type(torch.bool)\n",
        "    tgt_mask = self.transformer.generate_square_subsequent_mask(tgt.shape[1]).to(device)\n",
        "    src = self.src_emb(src).to(device) + self.pos_layer\n",
        "    tgt = self.tgt_emb(tgt).to(device) + self.pos_layer\n",
        "    out = self.transformer(src,tgt, tgt_mask =tgt_mask, tgt_is_causal=True)\n",
        "    out = self.lin(out)\n",
        "    out = self.relu(out)\n",
        "    out = self.out_layer(out)\n",
        "    return out"
      ],
      "metadata": {
        "id": "0Ob-xujcgEgF"
      },
      "execution_count": 28,
      "outputs": []
    },
    {
      "cell_type": "code",
      "source": [
        "model = Transformer(256,4000,4,4,0.1, positional_encoding)\n",
        "model.to(device)"
      ],
      "metadata": {
        "colab": {
          "base_uri": "https://localhost:8080/"
        },
        "id": "ECf3zkbugEdT",
        "outputId": "bb74f74c-18c4-4445-f8fd-7ead47c5d8a8"
      },
      "execution_count": 29,
      "outputs": [
        {
          "output_type": "execute_result",
          "data": {
            "text/plain": [
              "Transformer(\n",
              "  (src_emb): Embedding(4000, 256)\n",
              "  (tgt_emb): Embedding(4000, 256)\n",
              "  (transformer): Transformer(\n",
              "    (encoder): TransformerEncoder(\n",
              "      (layers): ModuleList(\n",
              "        (0-3): 4 x TransformerEncoderLayer(\n",
              "          (self_attn): MultiheadAttention(\n",
              "            (out_proj): NonDynamicallyQuantizableLinear(in_features=256, out_features=256, bias=True)\n",
              "          )\n",
              "          (linear1): Linear(in_features=256, out_features=1048, bias=True)\n",
              "          (dropout): Dropout(p=0.1, inplace=False)\n",
              "          (linear2): Linear(in_features=1048, out_features=256, bias=True)\n",
              "          (norm1): LayerNorm((256,), eps=1e-05, elementwise_affine=True)\n",
              "          (norm2): LayerNorm((256,), eps=1e-05, elementwise_affine=True)\n",
              "          (dropout1): Dropout(p=0.1, inplace=False)\n",
              "          (dropout2): Dropout(p=0.1, inplace=False)\n",
              "        )\n",
              "      )\n",
              "      (norm): LayerNorm((256,), eps=1e-05, elementwise_affine=True)\n",
              "    )\n",
              "    (decoder): TransformerDecoder(\n",
              "      (layers): ModuleList(\n",
              "        (0-3): 4 x TransformerDecoderLayer(\n",
              "          (self_attn): MultiheadAttention(\n",
              "            (out_proj): NonDynamicallyQuantizableLinear(in_features=256, out_features=256, bias=True)\n",
              "          )\n",
              "          (multihead_attn): MultiheadAttention(\n",
              "            (out_proj): NonDynamicallyQuantizableLinear(in_features=256, out_features=256, bias=True)\n",
              "          )\n",
              "          (linear1): Linear(in_features=256, out_features=1048, bias=True)\n",
              "          (dropout): Dropout(p=0.1, inplace=False)\n",
              "          (linear2): Linear(in_features=1048, out_features=256, bias=True)\n",
              "          (norm1): LayerNorm((256,), eps=1e-05, elementwise_affine=True)\n",
              "          (norm2): LayerNorm((256,), eps=1e-05, elementwise_affine=True)\n",
              "          (norm3): LayerNorm((256,), eps=1e-05, elementwise_affine=True)\n",
              "          (dropout1): Dropout(p=0.1, inplace=False)\n",
              "          (dropout2): Dropout(p=0.1, inplace=False)\n",
              "          (dropout3): Dropout(p=0.1, inplace=False)\n",
              "        )\n",
              "      )\n",
              "      (norm): LayerNorm((256,), eps=1e-05, elementwise_affine=True)\n",
              "    )\n",
              "  )\n",
              "  (lin): Linear(in_features=256, out_features=1048, bias=True)\n",
              "  (relu): ReLU()\n",
              "  (out_layer): Linear(in_features=1048, out_features=4000, bias=True)\n",
              ")"
            ]
          },
          "metadata": {},
          "execution_count": 29
        }
      ]
    },
    {
      "cell_type": "code",
      "source": [
        "class TransformerModel(pl.LightningModule):\n",
        "  def __init__(self, model):\n",
        "    super().__init__()\n",
        "    self.model = model.to(device)\n",
        "    self.loss = torch.nn.CrossEntropyLoss()\n",
        "\n",
        "  def forward(self,en,fr):\n",
        "    return self.model(en,fr)\n",
        "\n",
        "  def training_step(self,batch,batch_idx):\n",
        "    en,fr,tgt = batch\n",
        "    out = self.model(en.to(device),fr.to(device))\n",
        "    loss = self.loss(out.view(-1,out.shape[-1]),tgt.view(-1))\n",
        "    self.log(\"train_loss\",loss, prog_bar=True,on_step=True,on_epoch=True)\n",
        "    return loss\n",
        "\n",
        "  def validation_step(self,batch,batch_idx):\n",
        "    en,fr,tgt = batch\n",
        "    out = self.model(en.to(device),fr.to(device))\n",
        "    loss = self.loss(out.view(-1,out.shape[-1]),tgt.view(-1))\n",
        "    self.log(\"val_loss\",loss, prog_bar=True,on_step=True,on_epoch=True)\n",
        "    return loss\n",
        "\n",
        "  def configure_optimizers(self):\n",
        "    return torch.optim.AdamW(self.model.parameters(),lr=0.0001)"
      ],
      "metadata": {
        "id": "txoltnAsgEax"
      },
      "execution_count": 30,
      "outputs": []
    },
    {
      "cell_type": "code",
      "source": [
        "pl_model = TransformerModel(model).to(device).train()\n",
        "trainer = pl.Trainer(max_epochs=4)\n",
        "trainer.fit(pl_model,train_df,val_df)"
      ],
      "metadata": {
        "colab": {
          "base_uri": "https://localhost:8080/",
          "height": 344,
          "referenced_widgets": [
            "58e841339a9e494c8ffec0df04befe87",
            "46a1a3beceab4caeaebde9b76a15c132",
            "acb8c9f3054141338cd4ff277f532724",
            "fae1f4ad0dbd4c98ba9883ff29f4a728",
            "24f4a62c4ed0442dba454087a838ea93",
            "e031a0dbc79845489210a6563511fdf8",
            "1c517f5c0e0045ac803957a9a2c47765",
            "fc6ca35b0e6245cfa529c70cefd9d055",
            "4ff158780c7c4fc68b4ddde1a19b2c96",
            "c94cb28a1bc04a21add8186587ccec4f",
            "948a651d06f6431786159106f8f29fdc",
            "cb24d2be8f5143c1aef7bb03ff62ab5e",
            "491b53cb062440b3af02785b5a680fd9",
            "7de3ba38ca9140028089d2a8dd9f7c00",
            "a42cc5f8b56c41aa9d2b2174e90dcbac",
            "dbdf166a64b9412bbd92c4387157cb79",
            "94ad93134a0441d6b76d528e43434409",
            "b45008d2b5fb4315b8c78d4cac4ea32e",
            "9f587db50b374552b2e9f2bc47914607",
            "d44c152de3874e478c2f4288d13286ad",
            "9224642ee3dd4329b840b28319618e21",
            "8e5102ea8db14b27aa221214a27c242d",
            "ce1537e62a5c40c3a17deb0c20974feb",
            "25bc8b83c1ab4ed79dca811eaec0426e",
            "cfd3515f1fc2407197ed75ff8933b286",
            "630bf2bf999a42f8afb1d9a32e929658",
            "58f9c1fbf74c40258032dd4b2c314671",
            "1b34f3131cfa4e80afdcd77d54d68203",
            "e828cb18dd374da28c07c702f95ade41",
            "68f0db7e3fcf4bb58cda705981a6aa04",
            "505667f263074fa588df10d499dd3404",
            "59349689175a4de9a810336e01b09c87",
            "d718e3642e564cfaa8ea05d4983edfb0",
            "34514573ea384ea197423d640627b0f7",
            "4f2789f8b71b413cbc5af07d86d140d2",
            "e522dc65fc954fefa2a8d73d3282a137",
            "38b8cbef62544353a04cc74d957c9e6c",
            "99dbf4931af24a6fae700d7b7d587645",
            "3a06fb53759d4bbcacc97c73b0ada250",
            "10e74dfe423d4e2a86803e5fbd5415ae",
            "7bec60038e2747b6b81246b9acc2fcb3",
            "91d17be0c2a64ef79b0490680ef179eb",
            "0395457376cd4201aefe474c6deb1b27",
            "9f1dcc02d0ca46248110a8771fa6e7e0",
            "e0f88e671d0643169c3479eb28bd43bf",
            "0df5d1e2f05f45d682afa9d517182261",
            "e14a549124214fa783c0dcdeb8cc4678",
            "4aa6078b0b0b4c19a1f51609b2daf82f",
            "6dac18dd54c943b388ab481d84a51399",
            "2eadf954b1e448d1b2f0ff28912d0c5d",
            "b9b0f1df04d94b519c24fa7541f4fbf9",
            "3d89bf8a953943bca3509d5b30a861ac",
            "4bbbb0eb43dc46c68e4c44cb9bf86336",
            "424d844723b94cdb8e781f94c65583b3",
            "9d7b966af9cd4d38b5265cd66176ddb7",
            "00da3a8475a844f5809cc50f62c3d129",
            "6ad41710b107439e94d3f43111507632",
            "5078540bb05f487b86dbac204b78e8b5",
            "501c198f2a3a41e4999b47d50b7746c2",
            "4ab62725e5ee45478199a00b156ff2c7",
            "dfab04b9a8fa4b63846d13065c4a2fe0",
            "430ecf1657484aee8039efe3a6bf9b33",
            "5f4b398d11264610a3b76439b398d514",
            "16d0d45f6ff44973998eba8259bd1b6c",
            "17ae75197f3e4fc8b89372745ae2695b",
            "b74d5a1097d449cd84e3642bc9e585b8"
          ]
        },
        "id": "XVJz9h4igEYX",
        "outputId": "650f1715-4024-41f2-a06c-ee654b65277e"
      },
      "execution_count": 32,
      "outputs": [
        {
          "output_type": "stream",
          "name": "stderr",
          "text": [
            "INFO:pytorch_lightning.utilities.rank_zero:GPU available: True (cuda), used: True\n",
            "INFO:pytorch_lightning.utilities.rank_zero:TPU available: False, using: 0 TPU cores\n",
            "INFO:pytorch_lightning.utilities.rank_zero:HPU available: False, using: 0 HPUs\n",
            "INFO:pytorch_lightning.accelerators.cuda:LOCAL_RANK: 0 - CUDA_VISIBLE_DEVICES: [0]\n",
            "INFO:pytorch_lightning.callbacks.model_summary:\n",
            "  | Name  | Type             | Params | Mode \n",
            "---------------------------------------------------\n",
            "0 | model | Transformer      | 14.0 M | train\n",
            "1 | loss  | CrossEntropyLoss | 0      | train\n",
            "---------------------------------------------------\n",
            "14.0 M    Trainable params\n",
            "0         Non-trainable params\n",
            "14.0 M    Total params\n",
            "55.943    Total estimated model params size (MB)\n",
            "110       Modules in train mode\n",
            "0         Modules in eval mode\n"
          ]
        },
        {
          "output_type": "display_data",
          "data": {
            "text/plain": [
              "Sanity Checking: |          | 0/? [00:00<?, ?it/s]"
            ],
            "application/vnd.jupyter.widget-view+json": {
              "version_major": 2,
              "version_minor": 0,
              "model_id": "58e841339a9e494c8ffec0df04befe87"
            }
          },
          "metadata": {}
        },
        {
          "output_type": "display_data",
          "data": {
            "text/plain": [
              "Training: |          | 0/? [00:00<?, ?it/s]"
            ],
            "application/vnd.jupyter.widget-view+json": {
              "version_major": 2,
              "version_minor": 0,
              "model_id": "cb24d2be8f5143c1aef7bb03ff62ab5e"
            }
          },
          "metadata": {}
        },
        {
          "output_type": "display_data",
          "data": {
            "text/plain": [
              "Validation: |          | 0/? [00:00<?, ?it/s]"
            ],
            "application/vnd.jupyter.widget-view+json": {
              "version_major": 2,
              "version_minor": 0,
              "model_id": "ce1537e62a5c40c3a17deb0c20974feb"
            }
          },
          "metadata": {}
        },
        {
          "output_type": "display_data",
          "data": {
            "text/plain": [
              "Validation: |          | 0/? [00:00<?, ?it/s]"
            ],
            "application/vnd.jupyter.widget-view+json": {
              "version_major": 2,
              "version_minor": 0,
              "model_id": "34514573ea384ea197423d640627b0f7"
            }
          },
          "metadata": {}
        },
        {
          "output_type": "display_data",
          "data": {
            "text/plain": [
              "Validation: |          | 0/? [00:00<?, ?it/s]"
            ],
            "application/vnd.jupyter.widget-view+json": {
              "version_major": 2,
              "version_minor": 0,
              "model_id": "e0f88e671d0643169c3479eb28bd43bf"
            }
          },
          "metadata": {}
        },
        {
          "output_type": "display_data",
          "data": {
            "text/plain": [
              "Validation: |          | 0/? [00:00<?, ?it/s]"
            ],
            "application/vnd.jupyter.widget-view+json": {
              "version_major": 2,
              "version_minor": 0,
              "model_id": "00da3a8475a844f5809cc50f62c3d129"
            }
          },
          "metadata": {}
        },
        {
          "output_type": "stream",
          "name": "stderr",
          "text": [
            "INFO:pytorch_lightning.utilities.rank_zero:`Trainer.fit` stopped: `max_epochs=4` reached.\n"
          ]
        }
      ]
    },
    {
      "cell_type": "code",
      "source": [
        "pl_model.eval().to(device)"
      ],
      "metadata": {
        "colab": {
          "base_uri": "https://localhost:8080/"
        },
        "collapsed": true,
        "id": "yqe6dxVwYPHJ",
        "outputId": "e1a8fe31-7456-45a1-8ecc-87c2f59f9804"
      },
      "execution_count": 33,
      "outputs": [
        {
          "output_type": "execute_result",
          "data": {
            "text/plain": [
              "TransformerModel(\n",
              "  (model): Transformer(\n",
              "    (src_emb): Embedding(4000, 256)\n",
              "    (tgt_emb): Embedding(4000, 256)\n",
              "    (transformer): Transformer(\n",
              "      (encoder): TransformerEncoder(\n",
              "        (layers): ModuleList(\n",
              "          (0-3): 4 x TransformerEncoderLayer(\n",
              "            (self_attn): MultiheadAttention(\n",
              "              (out_proj): NonDynamicallyQuantizableLinear(in_features=256, out_features=256, bias=True)\n",
              "            )\n",
              "            (linear1): Linear(in_features=256, out_features=1048, bias=True)\n",
              "            (dropout): Dropout(p=0.1, inplace=False)\n",
              "            (linear2): Linear(in_features=1048, out_features=256, bias=True)\n",
              "            (norm1): LayerNorm((256,), eps=1e-05, elementwise_affine=True)\n",
              "            (norm2): LayerNorm((256,), eps=1e-05, elementwise_affine=True)\n",
              "            (dropout1): Dropout(p=0.1, inplace=False)\n",
              "            (dropout2): Dropout(p=0.1, inplace=False)\n",
              "          )\n",
              "        )\n",
              "        (norm): LayerNorm((256,), eps=1e-05, elementwise_affine=True)\n",
              "      )\n",
              "      (decoder): TransformerDecoder(\n",
              "        (layers): ModuleList(\n",
              "          (0-3): 4 x TransformerDecoderLayer(\n",
              "            (self_attn): MultiheadAttention(\n",
              "              (out_proj): NonDynamicallyQuantizableLinear(in_features=256, out_features=256, bias=True)\n",
              "            )\n",
              "            (multihead_attn): MultiheadAttention(\n",
              "              (out_proj): NonDynamicallyQuantizableLinear(in_features=256, out_features=256, bias=True)\n",
              "            )\n",
              "            (linear1): Linear(in_features=256, out_features=1048, bias=True)\n",
              "            (dropout): Dropout(p=0.1, inplace=False)\n",
              "            (linear2): Linear(in_features=1048, out_features=256, bias=True)\n",
              "            (norm1): LayerNorm((256,), eps=1e-05, elementwise_affine=True)\n",
              "            (norm2): LayerNorm((256,), eps=1e-05, elementwise_affine=True)\n",
              "            (norm3): LayerNorm((256,), eps=1e-05, elementwise_affine=True)\n",
              "            (dropout1): Dropout(p=0.1, inplace=False)\n",
              "            (dropout2): Dropout(p=0.1, inplace=False)\n",
              "            (dropout3): Dropout(p=0.1, inplace=False)\n",
              "          )\n",
              "        )\n",
              "        (norm): LayerNorm((256,), eps=1e-05, elementwise_affine=True)\n",
              "      )\n",
              "    )\n",
              "    (lin): Linear(in_features=256, out_features=1048, bias=True)\n",
              "    (relu): ReLU()\n",
              "    (out_layer): Linear(in_features=1048, out_features=4000, bias=True)\n",
              "  )\n",
              "  (loss): CrossEntropyLoss()\n",
              ")"
            ]
          },
          "metadata": {},
          "execution_count": 33
        }
      ]
    },
    {
      "cell_type": "code",
      "source": [
        "def translate(sentence):\n",
        "  en_tokens = (pad(torch.tensor(en_encoder.encode(sentence)))[:64]).unsqueeze(0).to(device)\n",
        "  fr_start = \"<sos>\"\n",
        "  for i in range(64):\n",
        "    fr_tokens = (pad(torch.tensor(fr_encoder.encode(fr_start)))[:64]).unsqueeze(0).to(device)\n",
        "    out = pl_model(en_tokens,fr_tokens)\n",
        "    soft_out = torch.nn.Softmax(dim=-1)(out)\n",
        "    word_index = torch.argmax(soft_out,dim=-1)[0].detach().cpu().numpy()\n",
        "    fr_word = fr_encoder.decode(word_index.tolist())\n",
        "    fr_start += fr_word\n",
        "  print(fr_start)"
      ],
      "metadata": {
        "id": "2_SgraLhgETN"
      },
      "execution_count": 114,
      "outputs": []
    },
    {
      "cell_type": "code",
      "source": [
        "translate(\"I'm not even sure if this is my key.\")"
      ],
      "metadata": {
        "colab": {
          "base_uri": "https://localhost:8080/"
        },
        "id": "lwV-Zxw8YW2s",
        "outputId": "02cbfc2e-883d-41c6-8efb-9784a24eb96f",
        "collapsed": true
      },
      "execution_count": 115,
      "outputs": [
        {
          "output_type": "stream",
          "name": "stdout",
          "text": [
            "<sos>JeJe ne suJe ne su ne suis pJe ne su ne suis p��is pis pas sJe ne su ne suis p��is pis pas s�asis pas pas mon� mon� mon fr clJe ne su ne suis p��is pis pas s�asis pas pas mon� mon� mon fr cl���.�.�.�.<eos>.<eos>..<eos>.<eos>.<eos>���éJe ne su ne suis p��is pis pas s�asis pas pas mon� mon� mon fr cl���.�.�.�.<eos>.<eos>..<eos>.<eos>.<eos>���é.<eos><eos>.<eos>.<eos>.<eos>Je ne su ne suis p��is pis pas s�asis pas pas mon� mon� mon fr cl���.�.�.�.<eos>.<eos>..<eos>.<eos>.<eos>���é.<eos><eos>.<eos>.<eos>.<eos>Je ne su ne suis p��is pis pas s�asis pas pas mon� mon� mon fr cl���.�.�.�.<eos>.<eos>..<eos>.<eos>.<eos>���é.<eos><eos>.<eos>.<eos>.<eos>Je ne su ne suis p��is pis pas s�asis pas pas mon� mon� mon fr cl���.�.�.�.<eos>.<eos>..<eos>.<eos>.<eos>���é.<eos><eos>.<eos>.<eos>.<eos>Je ne su ne suis p��is pis pas s�asis pas pas mon� mon� mon fr cl���.�.�.�.<eos>.<eos>..<eos>.<eos>.<eos>���é.<eos><eos>.<eos>.<eos>.<eos>Je ne su ne suis p��is pis pas s�asis pas pas mon� mon� mon fr cl���.�.�.�.<eos>.<eos>..<eos>.<eos>.<eos>���é.<eos><eos>.<eos>.<eos>.<eos>Je ne su ne suis p��is pis pas s�asis pas pas mon� mon� mon fr cl���.�.�.�.<eos>.<eos>..<eos>.<eos>.<eos>���é.<eos><eos>.<eos>.<eos>.<eos>Je ne su ne suis p��is pis pas s�asis pas pas mon� mon� mon fr cl���.�.�.�.<eos>.<eos>..<eos>.<eos>.<eos>���é.<eos><eos>.<eos>.<eos>.<eos>Je ne su ne suis p��is pis pas s�asis pas pas mon� mon� mon fr cl���.�.�.�.<eos>.<eos>..<eos>.<eos>.<eos>���é.<eos><eos>.<eos>.<eos>.<eos>Je ne su ne suis p��is pis pas s�asis pas pas mon� mon� mon fr cl���.�.�.�.<eos>.<eos>..<eos>.<eos>.<eos>���é.<eos><eos>.<eos>.<eos>.<eos>Je ne su ne suis p��is pis pas s�asis pas pas mon� mon� mon fr cl���.�.�.�.<eos>.<eos>..<eos>.<eos>.<eos>���é.<eos><eos>.<eos>.<eos>.<eos>Je ne su ne suis p��is pis pas s�asis pas pas mon� mon� mon fr cl���.�.�.�.<eos>.<eos>..<eos>.<eos>.<eos>���é.<eos><eos>.<eos>.<eos>.<eos>Je ne su ne suis p��is pis pas s�asis pas pas mon� mon� mon fr cl���.�.�.�.<eos>.<eos>..<eos>.<eos>.<eos>���é.<eos><eos>.<eos>.<eos>.<eos>Je ne su ne suis p��is pis pas s�asis pas pas mon� mon� mon fr cl���.�.�.�.<eos>.<eos>..<eos>.<eos>.<eos>���é.<eos><eos>.<eos>.<eos>.<eos>Je ne su ne suis p��is pis pas s�asis pas pas mon� mon� mon fr cl���.�.�.�.<eos>.<eos>..<eos>.<eos>.<eos>���é.<eos><eos>.<eos>.<eos>.<eos>Je ne su ne suis p��is pis pas s�asis pas pas mon� mon� mon fr cl���.�.�.�.<eos>.<eos>..<eos>.<eos>.<eos>���é.<eos><eos>.<eos>.<eos>.<eos>Je ne su ne suis p��is pis pas s�asis pas pas mon� mon� mon fr cl���.�.�.�.<eos>.<eos>..<eos>.<eos>.<eos>���é.<eos><eos>.<eos>.<eos>.<eos>Je ne su ne suis p��is pis pas s�asis pas pas mon� mon� mon fr cl���.�.�.�.<eos>.<eos>..<eos>.<eos>.<eos>���é.<eos><eos>.<eos>.<eos>.<eos>Je ne su ne suis p��is pis pas s�asis pas pas mon� mon� mon fr cl���.�.�.�.<eos>.<eos>..<eos>.<eos>.<eos>���é.<eos><eos>.<eos>.<eos>.<eos>Je ne su ne suis p��is pis pas s�asis pas pas mon� mon� mon fr cl���.�.�.�.<eos>.<eos>..<eos>.<eos>.<eos>���é.<eos><eos>.<eos>.<eos>.<eos>Je ne su ne suis p��is pis pas s�asis pas pas mon� mon� mon fr cl���.�.�.�.<eos>.<eos>..<eos>.<eos>.<eos>���é.<eos><eos>.<eos>.<eos>.<eos>Je ne su ne suis p��is pis pas s�asis pas pas mon� mon� mon fr cl���.�.�.�.<eos>.<eos>..<eos>.<eos>.<eos>���é.<eos><eos>.<eos>.<eos>.<eos>Je ne su ne suis p��is pis pas s�asis pas pas mon� mon� mon fr cl���.�.�.�.<eos>.<eos>..<eos>.<eos>.<eos>���é.<eos><eos>.<eos>.<eos>.<eos>Je ne su ne suis p��is pis pas s�asis pas pas mon� mon� mon fr cl���.�.�.�.<eos>.<eos>..<eos>.<eos>.<eos>���é.<eos><eos>.<eos>.<eos>.<eos>Je ne su ne suis p��is pis pas s�asis pas pas mon� mon� mon fr cl���.�.�.�.<eos>.<eos>..<eos>.<eos>.<eos>���é.<eos><eos>.<eos>.<eos>.<eos>Je ne su ne suis p��is pis pas s�asis pas pas mon� mon� mon fr cl���.�.�.�.<eos>.<eos>..<eos>.<eos>.<eos>���é.<eos><eos>.<eos>.<eos>.<eos>Je ne su ne suis p��is pis pas s�asis pas pas mon� mon� mon fr cl���.�.�.�.<eos>.<eos>..<eos>.<eos>.<eos>���é.<eos><eos>.<eos>.<eos>.<eos>Je ne su ne suis p��is pis pas s�asis pas pas mon� mon� mon fr cl���.�.�.�.<eos>.<eos>..<eos>.<eos>.<eos>���é.<eos><eos>.<eos>.<eos>.<eos>Je ne su ne suis p��is pis pas s�asis pas pas mon� mon� mon fr cl���.�.�.�.<eos>.<eos>..<eos>.<eos>.<eos>���é.<eos><eos>.<eos>.<eos>.<eos>Je ne su ne suis p��is pis pas s�asis pas pas mon� mon� mon fr cl���.�.�.�.<eos>.<eos>..<eos>.<eos>.<eos>���é.<eos><eos>.<eos>.<eos>.<eos>Je ne su ne suis p��is pis pas s�asis pas pas mon� mon� mon fr cl���.�.�.�.<eos>.<eos>..<eos>.<eos>.<eos>���é.<eos><eos>.<eos>.<eos>.<eos>Je ne su ne suis p��is pis pas s�asis pas pas mon� mon� mon fr cl���.�.�.�.<eos>.<eos>..<eos>.<eos>.<eos>���é.<eos><eos>.<eos>.<eos>.<eos>Je ne su ne suis p��is pis pas s�asis pas pas mon� mon� mon fr cl���.�.�.�.<eos>.<eos>..<eos>.<eos>.<eos>���é.<eos><eos>.<eos>.<eos>.<eos>Je ne su ne suis p��is pis pas s�asis pas pas mon� mon� mon fr cl���.�.�.�.<eos>.<eos>..<eos>.<eos>.<eos>���é.<eos><eos>.<eos>.<eos>.<eos>Je ne su ne suis p��is pis pas s�asis pas pas mon� mon� mon fr cl���.�.�.�.<eos>.<eos>..<eos>.<eos>.<eos>���é.<eos><eos>.<eos>.<eos>.<eos>Je ne su ne suis p��is pis pas s�asis pas pas mon� mon� mon fr cl���.�.�.�.<eos>.<eos>..<eos>.<eos>.<eos>���é.<eos><eos>.<eos>.<eos>.<eos>Je ne su ne suis p��is pis pas s�asis pas pas mon� mon� mon fr cl���.�.�.�.<eos>.<eos>..<eos>.<eos>.<eos>���é.<eos><eos>.<eos>.<eos>.<eos>Je ne su ne suis p��is pis pas s�asis pas pas mon� mon� mon fr cl���.�.�.�.<eos>.<eos>..<eos>.<eos>.<eos>���é.<eos><eos>.<eos>.<eos>.<eos>Je ne su ne suis p��is pis pas s�asis pas pas mon� mon� mon fr cl���.�.�.�.<eos>.<eos>..<eos>.<eos>.<eos>���é.<eos><eos>.<eos>.<eos>.<eos>Je ne su ne suis p��is pis pas s�asis pas pas mon� mon� mon fr cl���.�.�.�.<eos>.<eos>..<eos>.<eos>.<eos>���é.<eos><eos>.<eos>.<eos>.<eos>Je ne su ne suis p��is pis pas s�asis pas pas mon� mon� mon fr cl���.�.�.�.<eos>.<eos>..<eos>.<eos>.<eos>���é.<eos><eos>.<eos>.<eos>.<eos>Je ne su ne suis p��is pis pas s�asis pas pas mon� mon� mon fr cl���.�.�.�.<eos>.<eos>..<eos>.<eos>.<eos>���é.<eos><eos>.<eos>.<eos>.<eos>Je ne su ne suis p��is pis pas s�asis pas pas mon� mon� mon fr cl���.�.�.�.<eos>.<eos>..<eos>.<eos>.<eos>���é.<eos><eos>.<eos>.<eos>.<eos>Je ne su ne suis p��is pis pas s�asis pas pas mon� mon� mon fr cl���.�.�.�.<eos>.<eos>..<eos>.<eos>.<eos>���é.<eos><eos>.<eos>.<eos>.<eos>Je ne su ne suis p��is pis pas s�asis pas pas mon� mon� mon fr cl���.�.�.�.<eos>.<eos>..<eos>.<eos>.<eos>���é.<eos><eos>.<eos>.<eos>.<eos>Je ne su ne suis p��is pis pas s�asis pas pas mon� mon� mon fr cl���.�.�.�.<eos>.<eos>..<eos>.<eos>.<eos>���é.<eos><eos>.<eos>.<eos>.<eos>Je ne su ne suis p��is pis pas s�asis pas pas mon� mon� mon fr cl���.�.�.�.<eos>.<eos>..<eos>.<eos>.<eos>���é.<eos><eos>.<eos>.<eos>.<eos>Je ne su ne suis p��is pis pas s�asis pas pas mon� mon� mon fr cl���.�.�.�.<eos>.<eos>..<eos>.<eos>.<eos>���é.<eos><eos>.<eos>.<eos>.<eos>Je ne su ne suis p��is pis pas s�asis pas pas mon� mon� mon fr cl���.�.�.�.<eos>.<eos>..<eos>.<eos>.<eos>���é.<eos><eos>.<eos>.<eos>.<eos>Je ne su ne suis p��is pis pas s�asis pas pas mon� mon� mon fr cl���.�.�.�.<eos>.<eos>..<eos>.<eos>.<eos>���é.<eos><eos>.<eos>.<eos>.<eos>Je ne su ne suis p��is pis pas s�asis pas pas mon� mon� mon fr cl���.�.�.�.<eos>.<eos>..<eos>.<eos>.<eos>���é.<eos><eos>.<eos>.<eos>.<eos>Je ne su ne suis p��is pis pas s�asis pas pas mon� mon� mon fr cl���.�.�.�.<eos>.<eos>..<eos>.<eos>.<eos>���é.<eos><eos>.<eos>.<eos>.<eos>Je ne su ne suis p��is pis pas s�asis pas pas mon� mon� mon fr cl���.�.�.�.<eos>.<eos>..<eos>.<eos>.<eos>���é.<eos><eos>.<eos>.<eos>.<eos>Je ne su ne suis p��is pis pas s�asis pas pas mon� mon� mon fr cl���.�.�.�.<eos>.<eos>..<eos>.<eos>.<eos>���é.<eos><eos>.<eos>.<eos>.<eos>Je ne su ne suis p��is pis pas s�asis pas pas mon� mon� mon fr cl���.�.�.�.<eos>.<eos>..<eos>.<eos>.<eos>���é.<eos><eos>.<eos>.<eos>.<eos>Je ne su ne suis p��is pis pas s�asis pas pas mon� mon� mon fr cl���.�.�.�.<eos>.<eos>..<eos>.<eos>.<eos>���é.<eos><eos>.<eos>.<eos>.<eos>Je ne su ne suis p��is pis pas s�asis pas pas mon� mon� mon fr cl���.�.�.�.<eos>.<eos>..<eos>.<eos>.<eos>���é.<eos><eos>.<eos>.<eos>.<eos>Je ne su ne suis p��is pis pas s�asis pas pas mon� mon� mon fr cl���.�.�.�.<eos>.<eos>..<eos>.<eos>.<eos>���é.<eos><eos>.<eos>.<eos>.<eos>\n"
          ]
        }
      ]
    },
    {
      "cell_type": "code",
      "source": [
        "Que devez-vous faire maintenant ?"
      ],
      "metadata": {
        "id": "ZbuoHuDQLFki"
      },
      "execution_count": null,
      "outputs": []
    },
    {
      "cell_type": "code",
      "source": [
        "text = \"How about going out for dinner\"\n",
        "en_tokens = (pad(torch.tensor(en_encoder.encode(text)))[:64]).to(device)\n",
        "fr_start = \"<sos>Que va sortez d�\"\n",
        "\n",
        "fr_tokens = (pad(torch.tensor(fr_encoder.encode(fr_start)))[:64]).to(device)\n",
        "out = pl_model(en_tokens.unsqueeze(0),fr_tokens.unsqueeze(0))\n",
        "soft_out = torch.nn.Softmax(dim=-1)(out)\n",
        "word_index = torch.argmax(soft_out,dim=-1)[0].detach().cpu().numpy()\n",
        "word_index\n",
        "fr_word = fr_encoder.id_to_piece(word_index.tolist())\n",
        "fr_word = fr_encoder.decode(fr_word)\n",
        "\n",
        "fr_word"
      ],
      "metadata": {
        "colab": {
          "base_uri": "https://localhost:8080/",
          "height": 35
        },
        "id": "LgssQ1GVZtTn",
        "outputId": "70b85358-fcac-4388-f069-d574022db446"
      },
      "execution_count": 163,
      "outputs": [
        {
          "output_type": "execute_result",
          "data": {
            "text/plain": [
              "'Que va sortez d�'"
            ],
            "application/vnd.google.colaboratory.intrinsic+json": {
              "type": "string"
            }
          },
          "metadata": {},
          "execution_count": 163
        }
      ]
    },
    {
      "cell_type": "code",
      "source": [
        "text = \"How about going out for dinner\"\n",
        "en_tokens = (pad(torch.tensor(en_encoder.encode(text)))[:64]).to(device)\n",
        "fr_start = \"<sos>\"\n",
        "for x in range(10):\n",
        "  fr_tokens = (pad(torch.tensor(fr_encoder.encode(fr_start)))[:64]).to(device)\n",
        "  out = pl_model(en_tokens.unsqueeze(0),fr_tokens.unsqueeze(0))\n",
        "  soft_out = torch.nn.Softmax(dim=-1)(out)\n",
        "  word_index = torch.argmax(soft_out,dim=-1)[0].detach().cpu().numpy()\n",
        "  word_index\n",
        "  fr_word = fr_encoder.decode(word_index.tolist())\n",
        "  fr_start += fr_word\n",
        "print(fr_word)\n",
        "fr_word"
      ],
      "metadata": {
        "colab": {
          "base_uri": "https://localhost:8080/",
          "height": 53
        },
        "id": "b7HCdmf91NPw",
        "outputId": "24181cc6-b524-4d9a-900c-558791c08ca2"
      },
      "execution_count": 164,
      "outputs": [
        {
          "output_type": "stream",
          "name": "stdout",
          "text": [
            "Queue vue v vaue d da daa dit d d� d�� d d����î��..�.���.�î����������î�!�..�.\n"
          ]
        },
        {
          "output_type": "execute_result",
          "data": {
            "text/plain": [
              "'Queue vue v vaue d da daa dit d d� d�� d d����î��..�.���.�î����������î�!�..�.'"
            ],
            "application/vnd.google.colaboratory.intrinsic+json": {
              "type": "string"
            }
          },
          "metadata": {},
          "execution_count": 164
        }
      ]
    },
    {
      "cell_type": "code",
      "source": [
        "fr_encoder.decode([503,])"
      ],
      "metadata": {
        "colab": {
          "base_uri": "https://localhost:8080/",
          "height": 35
        },
        "id": "9_9IP5GYaIxA",
        "outputId": "5b4cd670-269a-4a73-a177-ca9912c98cc6"
      },
      "execution_count": 71,
      "outputs": [
        {
          "output_type": "execute_result",
          "data": {
            "text/plain": [
              "'L'"
            ],
            "application/vnd.google.colaboratory.intrinsic+json": {
              "type": "string"
            }
          },
          "metadata": {},
          "execution_count": 71
        }
      ]
    },
    {
      "cell_type": "code",
      "source": [
        "torch.cuda.empty_cache()"
      ],
      "metadata": {
        "id": "bA7r_LDsgEVw"
      },
      "execution_count": null,
      "outputs": []
    }
  ],
  "metadata": {
    "accelerator": "GPU",
    "colab": {
      "gpuType": "T4",
      "provenance": [],
      "authorship_tag": "ABX9TyNQTnQKpMqfditR+gn9CCiA",
      "include_colab_link": true
    },
    "kernelspec": {
      "display_name": "Python 3",
      "name": "python3"
    },
    "language_info": {
      "name": "python"
    },
    "widgets": {
      "application/vnd.jupyter.widget-state+json": {
        "58e841339a9e494c8ffec0df04befe87": {
          "model_module": "@jupyter-widgets/controls",
          "model_name": "HBoxModel",
          "model_module_version": "1.5.0",
          "state": {
            "_dom_classes": [],
            "_model_module": "@jupyter-widgets/controls",
            "_model_module_version": "1.5.0",
            "_model_name": "HBoxModel",
            "_view_count": null,
            "_view_module": "@jupyter-widgets/controls",
            "_view_module_version": "1.5.0",
            "_view_name": "HBoxView",
            "box_style": "",
            "children": [
              "IPY_MODEL_46a1a3beceab4caeaebde9b76a15c132",
              "IPY_MODEL_acb8c9f3054141338cd4ff277f532724",
              "IPY_MODEL_fae1f4ad0dbd4c98ba9883ff29f4a728"
            ],
            "layout": "IPY_MODEL_24f4a62c4ed0442dba454087a838ea93"
          }
        },
        "46a1a3beceab4caeaebde9b76a15c132": {
          "model_module": "@jupyter-widgets/controls",
          "model_name": "HTMLModel",
          "model_module_version": "1.5.0",
          "state": {
            "_dom_classes": [],
            "_model_module": "@jupyter-widgets/controls",
            "_model_module_version": "1.5.0",
            "_model_name": "HTMLModel",
            "_view_count": null,
            "_view_module": "@jupyter-widgets/controls",
            "_view_module_version": "1.5.0",
            "_view_name": "HTMLView",
            "description": "",
            "description_tooltip": null,
            "layout": "IPY_MODEL_e031a0dbc79845489210a6563511fdf8",
            "placeholder": "​",
            "style": "IPY_MODEL_1c517f5c0e0045ac803957a9a2c47765",
            "value": "Sanity Checking DataLoader 0: 100%"
          }
        },
        "acb8c9f3054141338cd4ff277f532724": {
          "model_module": "@jupyter-widgets/controls",
          "model_name": "FloatProgressModel",
          "model_module_version": "1.5.0",
          "state": {
            "_dom_classes": [],
            "_model_module": "@jupyter-widgets/controls",
            "_model_module_version": "1.5.0",
            "_model_name": "FloatProgressModel",
            "_view_count": null,
            "_view_module": "@jupyter-widgets/controls",
            "_view_module_version": "1.5.0",
            "_view_name": "ProgressView",
            "bar_style": "",
            "description": "",
            "description_tooltip": null,
            "layout": "IPY_MODEL_fc6ca35b0e6245cfa529c70cefd9d055",
            "max": 2,
            "min": 0,
            "orientation": "horizontal",
            "style": "IPY_MODEL_4ff158780c7c4fc68b4ddde1a19b2c96",
            "value": 2
          }
        },
        "fae1f4ad0dbd4c98ba9883ff29f4a728": {
          "model_module": "@jupyter-widgets/controls",
          "model_name": "HTMLModel",
          "model_module_version": "1.5.0",
          "state": {
            "_dom_classes": [],
            "_model_module": "@jupyter-widgets/controls",
            "_model_module_version": "1.5.0",
            "_model_name": "HTMLModel",
            "_view_count": null,
            "_view_module": "@jupyter-widgets/controls",
            "_view_module_version": "1.5.0",
            "_view_name": "HTMLView",
            "description": "",
            "description_tooltip": null,
            "layout": "IPY_MODEL_c94cb28a1bc04a21add8186587ccec4f",
            "placeholder": "​",
            "style": "IPY_MODEL_948a651d06f6431786159106f8f29fdc",
            "value": " 2/2 [00:00&lt;00:00, 13.34it/s]"
          }
        },
        "24f4a62c4ed0442dba454087a838ea93": {
          "model_module": "@jupyter-widgets/base",
          "model_name": "LayoutModel",
          "model_module_version": "1.2.0",
          "state": {
            "_model_module": "@jupyter-widgets/base",
            "_model_module_version": "1.2.0",
            "_model_name": "LayoutModel",
            "_view_count": null,
            "_view_module": "@jupyter-widgets/base",
            "_view_module_version": "1.2.0",
            "_view_name": "LayoutView",
            "align_content": null,
            "align_items": null,
            "align_self": null,
            "border": null,
            "bottom": null,
            "display": "inline-flex",
            "flex": null,
            "flex_flow": "row wrap",
            "grid_area": null,
            "grid_auto_columns": null,
            "grid_auto_flow": null,
            "grid_auto_rows": null,
            "grid_column": null,
            "grid_gap": null,
            "grid_row": null,
            "grid_template_areas": null,
            "grid_template_columns": null,
            "grid_template_rows": null,
            "height": null,
            "justify_content": null,
            "justify_items": null,
            "left": null,
            "margin": null,
            "max_height": null,
            "max_width": null,
            "min_height": null,
            "min_width": null,
            "object_fit": null,
            "object_position": null,
            "order": null,
            "overflow": null,
            "overflow_x": null,
            "overflow_y": null,
            "padding": null,
            "right": null,
            "top": null,
            "visibility": "hidden",
            "width": "100%"
          }
        },
        "e031a0dbc79845489210a6563511fdf8": {
          "model_module": "@jupyter-widgets/base",
          "model_name": "LayoutModel",
          "model_module_version": "1.2.0",
          "state": {
            "_model_module": "@jupyter-widgets/base",
            "_model_module_version": "1.2.0",
            "_model_name": "LayoutModel",
            "_view_count": null,
            "_view_module": "@jupyter-widgets/base",
            "_view_module_version": "1.2.0",
            "_view_name": "LayoutView",
            "align_content": null,
            "align_items": null,
            "align_self": null,
            "border": null,
            "bottom": null,
            "display": null,
            "flex": null,
            "flex_flow": null,
            "grid_area": null,
            "grid_auto_columns": null,
            "grid_auto_flow": null,
            "grid_auto_rows": null,
            "grid_column": null,
            "grid_gap": null,
            "grid_row": null,
            "grid_template_areas": null,
            "grid_template_columns": null,
            "grid_template_rows": null,
            "height": null,
            "justify_content": null,
            "justify_items": null,
            "left": null,
            "margin": null,
            "max_height": null,
            "max_width": null,
            "min_height": null,
            "min_width": null,
            "object_fit": null,
            "object_position": null,
            "order": null,
            "overflow": null,
            "overflow_x": null,
            "overflow_y": null,
            "padding": null,
            "right": null,
            "top": null,
            "visibility": null,
            "width": null
          }
        },
        "1c517f5c0e0045ac803957a9a2c47765": {
          "model_module": "@jupyter-widgets/controls",
          "model_name": "DescriptionStyleModel",
          "model_module_version": "1.5.0",
          "state": {
            "_model_module": "@jupyter-widgets/controls",
            "_model_module_version": "1.5.0",
            "_model_name": "DescriptionStyleModel",
            "_view_count": null,
            "_view_module": "@jupyter-widgets/base",
            "_view_module_version": "1.2.0",
            "_view_name": "StyleView",
            "description_width": ""
          }
        },
        "fc6ca35b0e6245cfa529c70cefd9d055": {
          "model_module": "@jupyter-widgets/base",
          "model_name": "LayoutModel",
          "model_module_version": "1.2.0",
          "state": {
            "_model_module": "@jupyter-widgets/base",
            "_model_module_version": "1.2.0",
            "_model_name": "LayoutModel",
            "_view_count": null,
            "_view_module": "@jupyter-widgets/base",
            "_view_module_version": "1.2.0",
            "_view_name": "LayoutView",
            "align_content": null,
            "align_items": null,
            "align_self": null,
            "border": null,
            "bottom": null,
            "display": null,
            "flex": "2",
            "flex_flow": null,
            "grid_area": null,
            "grid_auto_columns": null,
            "grid_auto_flow": null,
            "grid_auto_rows": null,
            "grid_column": null,
            "grid_gap": null,
            "grid_row": null,
            "grid_template_areas": null,
            "grid_template_columns": null,
            "grid_template_rows": null,
            "height": null,
            "justify_content": null,
            "justify_items": null,
            "left": null,
            "margin": null,
            "max_height": null,
            "max_width": null,
            "min_height": null,
            "min_width": null,
            "object_fit": null,
            "object_position": null,
            "order": null,
            "overflow": null,
            "overflow_x": null,
            "overflow_y": null,
            "padding": null,
            "right": null,
            "top": null,
            "visibility": null,
            "width": null
          }
        },
        "4ff158780c7c4fc68b4ddde1a19b2c96": {
          "model_module": "@jupyter-widgets/controls",
          "model_name": "ProgressStyleModel",
          "model_module_version": "1.5.0",
          "state": {
            "_model_module": "@jupyter-widgets/controls",
            "_model_module_version": "1.5.0",
            "_model_name": "ProgressStyleModel",
            "_view_count": null,
            "_view_module": "@jupyter-widgets/base",
            "_view_module_version": "1.2.0",
            "_view_name": "StyleView",
            "bar_color": null,
            "description_width": ""
          }
        },
        "c94cb28a1bc04a21add8186587ccec4f": {
          "model_module": "@jupyter-widgets/base",
          "model_name": "LayoutModel",
          "model_module_version": "1.2.0",
          "state": {
            "_model_module": "@jupyter-widgets/base",
            "_model_module_version": "1.2.0",
            "_model_name": "LayoutModel",
            "_view_count": null,
            "_view_module": "@jupyter-widgets/base",
            "_view_module_version": "1.2.0",
            "_view_name": "LayoutView",
            "align_content": null,
            "align_items": null,
            "align_self": null,
            "border": null,
            "bottom": null,
            "display": null,
            "flex": null,
            "flex_flow": null,
            "grid_area": null,
            "grid_auto_columns": null,
            "grid_auto_flow": null,
            "grid_auto_rows": null,
            "grid_column": null,
            "grid_gap": null,
            "grid_row": null,
            "grid_template_areas": null,
            "grid_template_columns": null,
            "grid_template_rows": null,
            "height": null,
            "justify_content": null,
            "justify_items": null,
            "left": null,
            "margin": null,
            "max_height": null,
            "max_width": null,
            "min_height": null,
            "min_width": null,
            "object_fit": null,
            "object_position": null,
            "order": null,
            "overflow": null,
            "overflow_x": null,
            "overflow_y": null,
            "padding": null,
            "right": null,
            "top": null,
            "visibility": null,
            "width": null
          }
        },
        "948a651d06f6431786159106f8f29fdc": {
          "model_module": "@jupyter-widgets/controls",
          "model_name": "DescriptionStyleModel",
          "model_module_version": "1.5.0",
          "state": {
            "_model_module": "@jupyter-widgets/controls",
            "_model_module_version": "1.5.0",
            "_model_name": "DescriptionStyleModel",
            "_view_count": null,
            "_view_module": "@jupyter-widgets/base",
            "_view_module_version": "1.2.0",
            "_view_name": "StyleView",
            "description_width": ""
          }
        },
        "cb24d2be8f5143c1aef7bb03ff62ab5e": {
          "model_module": "@jupyter-widgets/controls",
          "model_name": "HBoxModel",
          "model_module_version": "1.5.0",
          "state": {
            "_dom_classes": [],
            "_model_module": "@jupyter-widgets/controls",
            "_model_module_version": "1.5.0",
            "_model_name": "HBoxModel",
            "_view_count": null,
            "_view_module": "@jupyter-widgets/controls",
            "_view_module_version": "1.5.0",
            "_view_name": "HBoxView",
            "box_style": "",
            "children": [
              "IPY_MODEL_491b53cb062440b3af02785b5a680fd9",
              "IPY_MODEL_7de3ba38ca9140028089d2a8dd9f7c00",
              "IPY_MODEL_a42cc5f8b56c41aa9d2b2174e90dcbac"
            ],
            "layout": "IPY_MODEL_dbdf166a64b9412bbd92c4387157cb79"
          }
        },
        "491b53cb062440b3af02785b5a680fd9": {
          "model_module": "@jupyter-widgets/controls",
          "model_name": "HTMLModel",
          "model_module_version": "1.5.0",
          "state": {
            "_dom_classes": [],
            "_model_module": "@jupyter-widgets/controls",
            "_model_module_version": "1.5.0",
            "_model_name": "HTMLModel",
            "_view_count": null,
            "_view_module": "@jupyter-widgets/controls",
            "_view_module_version": "1.5.0",
            "_view_name": "HTMLView",
            "description": "",
            "description_tooltip": null,
            "layout": "IPY_MODEL_94ad93134a0441d6b76d528e43434409",
            "placeholder": "​",
            "style": "IPY_MODEL_b45008d2b5fb4315b8c78d4cac4ea32e",
            "value": "Epoch 3: 100%"
          }
        },
        "7de3ba38ca9140028089d2a8dd9f7c00": {
          "model_module": "@jupyter-widgets/controls",
          "model_name": "FloatProgressModel",
          "model_module_version": "1.5.0",
          "state": {
            "_dom_classes": [],
            "_model_module": "@jupyter-widgets/controls",
            "_model_module_version": "1.5.0",
            "_model_name": "FloatProgressModel",
            "_view_count": null,
            "_view_module": "@jupyter-widgets/controls",
            "_view_module_version": "1.5.0",
            "_view_name": "ProgressView",
            "bar_style": "success",
            "description": "",
            "description_tooltip": null,
            "layout": "IPY_MODEL_9f587db50b374552b2e9f2bc47914607",
            "max": 1373,
            "min": 0,
            "orientation": "horizontal",
            "style": "IPY_MODEL_d44c152de3874e478c2f4288d13286ad",
            "value": 1373
          }
        },
        "a42cc5f8b56c41aa9d2b2174e90dcbac": {
          "model_module": "@jupyter-widgets/controls",
          "model_name": "HTMLModel",
          "model_module_version": "1.5.0",
          "state": {
            "_dom_classes": [],
            "_model_module": "@jupyter-widgets/controls",
            "_model_module_version": "1.5.0",
            "_model_name": "HTMLModel",
            "_view_count": null,
            "_view_module": "@jupyter-widgets/controls",
            "_view_module_version": "1.5.0",
            "_view_name": "HTMLView",
            "description": "",
            "description_tooltip": null,
            "layout": "IPY_MODEL_9224642ee3dd4329b840b28319618e21",
            "placeholder": "​",
            "style": "IPY_MODEL_8e5102ea8db14b27aa221214a27c242d",
            "value": " 1373/1373 [06:29&lt;00:00,  3.52it/s, v_num=1, train_loss_step=0.692, val_loss_step=0.535, val_loss_epoch=0.561, train_loss_epoch=0.661]"
          }
        },
        "dbdf166a64b9412bbd92c4387157cb79": {
          "model_module": "@jupyter-widgets/base",
          "model_name": "LayoutModel",
          "model_module_version": "1.2.0",
          "state": {
            "_model_module": "@jupyter-widgets/base",
            "_model_module_version": "1.2.0",
            "_model_name": "LayoutModel",
            "_view_count": null,
            "_view_module": "@jupyter-widgets/base",
            "_view_module_version": "1.2.0",
            "_view_name": "LayoutView",
            "align_content": null,
            "align_items": null,
            "align_self": null,
            "border": null,
            "bottom": null,
            "display": "inline-flex",
            "flex": null,
            "flex_flow": "row wrap",
            "grid_area": null,
            "grid_auto_columns": null,
            "grid_auto_flow": null,
            "grid_auto_rows": null,
            "grid_column": null,
            "grid_gap": null,
            "grid_row": null,
            "grid_template_areas": null,
            "grid_template_columns": null,
            "grid_template_rows": null,
            "height": null,
            "justify_content": null,
            "justify_items": null,
            "left": null,
            "margin": null,
            "max_height": null,
            "max_width": null,
            "min_height": null,
            "min_width": null,
            "object_fit": null,
            "object_position": null,
            "order": null,
            "overflow": null,
            "overflow_x": null,
            "overflow_y": null,
            "padding": null,
            "right": null,
            "top": null,
            "visibility": null,
            "width": "100%"
          }
        },
        "94ad93134a0441d6b76d528e43434409": {
          "model_module": "@jupyter-widgets/base",
          "model_name": "LayoutModel",
          "model_module_version": "1.2.0",
          "state": {
            "_model_module": "@jupyter-widgets/base",
            "_model_module_version": "1.2.0",
            "_model_name": "LayoutModel",
            "_view_count": null,
            "_view_module": "@jupyter-widgets/base",
            "_view_module_version": "1.2.0",
            "_view_name": "LayoutView",
            "align_content": null,
            "align_items": null,
            "align_self": null,
            "border": null,
            "bottom": null,
            "display": null,
            "flex": null,
            "flex_flow": null,
            "grid_area": null,
            "grid_auto_columns": null,
            "grid_auto_flow": null,
            "grid_auto_rows": null,
            "grid_column": null,
            "grid_gap": null,
            "grid_row": null,
            "grid_template_areas": null,
            "grid_template_columns": null,
            "grid_template_rows": null,
            "height": null,
            "justify_content": null,
            "justify_items": null,
            "left": null,
            "margin": null,
            "max_height": null,
            "max_width": null,
            "min_height": null,
            "min_width": null,
            "object_fit": null,
            "object_position": null,
            "order": null,
            "overflow": null,
            "overflow_x": null,
            "overflow_y": null,
            "padding": null,
            "right": null,
            "top": null,
            "visibility": null,
            "width": null
          }
        },
        "b45008d2b5fb4315b8c78d4cac4ea32e": {
          "model_module": "@jupyter-widgets/controls",
          "model_name": "DescriptionStyleModel",
          "model_module_version": "1.5.0",
          "state": {
            "_model_module": "@jupyter-widgets/controls",
            "_model_module_version": "1.5.0",
            "_model_name": "DescriptionStyleModel",
            "_view_count": null,
            "_view_module": "@jupyter-widgets/base",
            "_view_module_version": "1.2.0",
            "_view_name": "StyleView",
            "description_width": ""
          }
        },
        "9f587db50b374552b2e9f2bc47914607": {
          "model_module": "@jupyter-widgets/base",
          "model_name": "LayoutModel",
          "model_module_version": "1.2.0",
          "state": {
            "_model_module": "@jupyter-widgets/base",
            "_model_module_version": "1.2.0",
            "_model_name": "LayoutModel",
            "_view_count": null,
            "_view_module": "@jupyter-widgets/base",
            "_view_module_version": "1.2.0",
            "_view_name": "LayoutView",
            "align_content": null,
            "align_items": null,
            "align_self": null,
            "border": null,
            "bottom": null,
            "display": null,
            "flex": "2",
            "flex_flow": null,
            "grid_area": null,
            "grid_auto_columns": null,
            "grid_auto_flow": null,
            "grid_auto_rows": null,
            "grid_column": null,
            "grid_gap": null,
            "grid_row": null,
            "grid_template_areas": null,
            "grid_template_columns": null,
            "grid_template_rows": null,
            "height": null,
            "justify_content": null,
            "justify_items": null,
            "left": null,
            "margin": null,
            "max_height": null,
            "max_width": null,
            "min_height": null,
            "min_width": null,
            "object_fit": null,
            "object_position": null,
            "order": null,
            "overflow": null,
            "overflow_x": null,
            "overflow_y": null,
            "padding": null,
            "right": null,
            "top": null,
            "visibility": null,
            "width": null
          }
        },
        "d44c152de3874e478c2f4288d13286ad": {
          "model_module": "@jupyter-widgets/controls",
          "model_name": "ProgressStyleModel",
          "model_module_version": "1.5.0",
          "state": {
            "_model_module": "@jupyter-widgets/controls",
            "_model_module_version": "1.5.0",
            "_model_name": "ProgressStyleModel",
            "_view_count": null,
            "_view_module": "@jupyter-widgets/base",
            "_view_module_version": "1.2.0",
            "_view_name": "StyleView",
            "bar_color": null,
            "description_width": ""
          }
        },
        "9224642ee3dd4329b840b28319618e21": {
          "model_module": "@jupyter-widgets/base",
          "model_name": "LayoutModel",
          "model_module_version": "1.2.0",
          "state": {
            "_model_module": "@jupyter-widgets/base",
            "_model_module_version": "1.2.0",
            "_model_name": "LayoutModel",
            "_view_count": null,
            "_view_module": "@jupyter-widgets/base",
            "_view_module_version": "1.2.0",
            "_view_name": "LayoutView",
            "align_content": null,
            "align_items": null,
            "align_self": null,
            "border": null,
            "bottom": null,
            "display": null,
            "flex": null,
            "flex_flow": null,
            "grid_area": null,
            "grid_auto_columns": null,
            "grid_auto_flow": null,
            "grid_auto_rows": null,
            "grid_column": null,
            "grid_gap": null,
            "grid_row": null,
            "grid_template_areas": null,
            "grid_template_columns": null,
            "grid_template_rows": null,
            "height": null,
            "justify_content": null,
            "justify_items": null,
            "left": null,
            "margin": null,
            "max_height": null,
            "max_width": null,
            "min_height": null,
            "min_width": null,
            "object_fit": null,
            "object_position": null,
            "order": null,
            "overflow": null,
            "overflow_x": null,
            "overflow_y": null,
            "padding": null,
            "right": null,
            "top": null,
            "visibility": null,
            "width": null
          }
        },
        "8e5102ea8db14b27aa221214a27c242d": {
          "model_module": "@jupyter-widgets/controls",
          "model_name": "DescriptionStyleModel",
          "model_module_version": "1.5.0",
          "state": {
            "_model_module": "@jupyter-widgets/controls",
            "_model_module_version": "1.5.0",
            "_model_name": "DescriptionStyleModel",
            "_view_count": null,
            "_view_module": "@jupyter-widgets/base",
            "_view_module_version": "1.2.0",
            "_view_name": "StyleView",
            "description_width": ""
          }
        },
        "ce1537e62a5c40c3a17deb0c20974feb": {
          "model_module": "@jupyter-widgets/controls",
          "model_name": "HBoxModel",
          "model_module_version": "1.5.0",
          "state": {
            "_dom_classes": [],
            "_model_module": "@jupyter-widgets/controls",
            "_model_module_version": "1.5.0",
            "_model_name": "HBoxModel",
            "_view_count": null,
            "_view_module": "@jupyter-widgets/controls",
            "_view_module_version": "1.5.0",
            "_view_name": "HBoxView",
            "box_style": "",
            "children": [
              "IPY_MODEL_25bc8b83c1ab4ed79dca811eaec0426e",
              "IPY_MODEL_cfd3515f1fc2407197ed75ff8933b286",
              "IPY_MODEL_630bf2bf999a42f8afb1d9a32e929658"
            ],
            "layout": "IPY_MODEL_58f9c1fbf74c40258032dd4b2c314671"
          }
        },
        "25bc8b83c1ab4ed79dca811eaec0426e": {
          "model_module": "@jupyter-widgets/controls",
          "model_name": "HTMLModel",
          "model_module_version": "1.5.0",
          "state": {
            "_dom_classes": [],
            "_model_module": "@jupyter-widgets/controls",
            "_model_module_version": "1.5.0",
            "_model_name": "HTMLModel",
            "_view_count": null,
            "_view_module": "@jupyter-widgets/controls",
            "_view_module_version": "1.5.0",
            "_view_name": "HTMLView",
            "description": "",
            "description_tooltip": null,
            "layout": "IPY_MODEL_1b34f3131cfa4e80afdcd77d54d68203",
            "placeholder": "​",
            "style": "IPY_MODEL_e828cb18dd374da28c07c702f95ade41",
            "value": "Validation DataLoader 0: 100%"
          }
        },
        "cfd3515f1fc2407197ed75ff8933b286": {
          "model_module": "@jupyter-widgets/controls",
          "model_name": "FloatProgressModel",
          "model_module_version": "1.5.0",
          "state": {
            "_dom_classes": [],
            "_model_module": "@jupyter-widgets/controls",
            "_model_module_version": "1.5.0",
            "_model_name": "FloatProgressModel",
            "_view_count": null,
            "_view_module": "@jupyter-widgets/controls",
            "_view_module_version": "1.5.0",
            "_view_name": "ProgressView",
            "bar_style": "",
            "description": "",
            "description_tooltip": null,
            "layout": "IPY_MODEL_68f0db7e3fcf4bb58cda705981a6aa04",
            "max": 44,
            "min": 0,
            "orientation": "horizontal",
            "style": "IPY_MODEL_505667f263074fa588df10d499dd3404",
            "value": 44
          }
        },
        "630bf2bf999a42f8afb1d9a32e929658": {
          "model_module": "@jupyter-widgets/controls",
          "model_name": "HTMLModel",
          "model_module_version": "1.5.0",
          "state": {
            "_dom_classes": [],
            "_model_module": "@jupyter-widgets/controls",
            "_model_module_version": "1.5.0",
            "_model_name": "HTMLModel",
            "_view_count": null,
            "_view_module": "@jupyter-widgets/controls",
            "_view_module_version": "1.5.0",
            "_view_name": "HTMLView",
            "description": "",
            "description_tooltip": null,
            "layout": "IPY_MODEL_59349689175a4de9a810336e01b09c87",
            "placeholder": "​",
            "style": "IPY_MODEL_d718e3642e564cfaa8ea05d4983edfb0",
            "value": " 44/44 [00:04&lt;00:00,  9.77it/s]"
          }
        },
        "58f9c1fbf74c40258032dd4b2c314671": {
          "model_module": "@jupyter-widgets/base",
          "model_name": "LayoutModel",
          "model_module_version": "1.2.0",
          "state": {
            "_model_module": "@jupyter-widgets/base",
            "_model_module_version": "1.2.0",
            "_model_name": "LayoutModel",
            "_view_count": null,
            "_view_module": "@jupyter-widgets/base",
            "_view_module_version": "1.2.0",
            "_view_name": "LayoutView",
            "align_content": null,
            "align_items": null,
            "align_self": null,
            "border": null,
            "bottom": null,
            "display": "inline-flex",
            "flex": null,
            "flex_flow": "row wrap",
            "grid_area": null,
            "grid_auto_columns": null,
            "grid_auto_flow": null,
            "grid_auto_rows": null,
            "grid_column": null,
            "grid_gap": null,
            "grid_row": null,
            "grid_template_areas": null,
            "grid_template_columns": null,
            "grid_template_rows": null,
            "height": null,
            "justify_content": null,
            "justify_items": null,
            "left": null,
            "margin": null,
            "max_height": null,
            "max_width": null,
            "min_height": null,
            "min_width": null,
            "object_fit": null,
            "object_position": null,
            "order": null,
            "overflow": null,
            "overflow_x": null,
            "overflow_y": null,
            "padding": null,
            "right": null,
            "top": null,
            "visibility": "hidden",
            "width": "100%"
          }
        },
        "1b34f3131cfa4e80afdcd77d54d68203": {
          "model_module": "@jupyter-widgets/base",
          "model_name": "LayoutModel",
          "model_module_version": "1.2.0",
          "state": {
            "_model_module": "@jupyter-widgets/base",
            "_model_module_version": "1.2.0",
            "_model_name": "LayoutModel",
            "_view_count": null,
            "_view_module": "@jupyter-widgets/base",
            "_view_module_version": "1.2.0",
            "_view_name": "LayoutView",
            "align_content": null,
            "align_items": null,
            "align_self": null,
            "border": null,
            "bottom": null,
            "display": null,
            "flex": null,
            "flex_flow": null,
            "grid_area": null,
            "grid_auto_columns": null,
            "grid_auto_flow": null,
            "grid_auto_rows": null,
            "grid_column": null,
            "grid_gap": null,
            "grid_row": null,
            "grid_template_areas": null,
            "grid_template_columns": null,
            "grid_template_rows": null,
            "height": null,
            "justify_content": null,
            "justify_items": null,
            "left": null,
            "margin": null,
            "max_height": null,
            "max_width": null,
            "min_height": null,
            "min_width": null,
            "object_fit": null,
            "object_position": null,
            "order": null,
            "overflow": null,
            "overflow_x": null,
            "overflow_y": null,
            "padding": null,
            "right": null,
            "top": null,
            "visibility": null,
            "width": null
          }
        },
        "e828cb18dd374da28c07c702f95ade41": {
          "model_module": "@jupyter-widgets/controls",
          "model_name": "DescriptionStyleModel",
          "model_module_version": "1.5.0",
          "state": {
            "_model_module": "@jupyter-widgets/controls",
            "_model_module_version": "1.5.0",
            "_model_name": "DescriptionStyleModel",
            "_view_count": null,
            "_view_module": "@jupyter-widgets/base",
            "_view_module_version": "1.2.0",
            "_view_name": "StyleView",
            "description_width": ""
          }
        },
        "68f0db7e3fcf4bb58cda705981a6aa04": {
          "model_module": "@jupyter-widgets/base",
          "model_name": "LayoutModel",
          "model_module_version": "1.2.0",
          "state": {
            "_model_module": "@jupyter-widgets/base",
            "_model_module_version": "1.2.0",
            "_model_name": "LayoutModel",
            "_view_count": null,
            "_view_module": "@jupyter-widgets/base",
            "_view_module_version": "1.2.0",
            "_view_name": "LayoutView",
            "align_content": null,
            "align_items": null,
            "align_self": null,
            "border": null,
            "bottom": null,
            "display": null,
            "flex": "2",
            "flex_flow": null,
            "grid_area": null,
            "grid_auto_columns": null,
            "grid_auto_flow": null,
            "grid_auto_rows": null,
            "grid_column": null,
            "grid_gap": null,
            "grid_row": null,
            "grid_template_areas": null,
            "grid_template_columns": null,
            "grid_template_rows": null,
            "height": null,
            "justify_content": null,
            "justify_items": null,
            "left": null,
            "margin": null,
            "max_height": null,
            "max_width": null,
            "min_height": null,
            "min_width": null,
            "object_fit": null,
            "object_position": null,
            "order": null,
            "overflow": null,
            "overflow_x": null,
            "overflow_y": null,
            "padding": null,
            "right": null,
            "top": null,
            "visibility": null,
            "width": null
          }
        },
        "505667f263074fa588df10d499dd3404": {
          "model_module": "@jupyter-widgets/controls",
          "model_name": "ProgressStyleModel",
          "model_module_version": "1.5.0",
          "state": {
            "_model_module": "@jupyter-widgets/controls",
            "_model_module_version": "1.5.0",
            "_model_name": "ProgressStyleModel",
            "_view_count": null,
            "_view_module": "@jupyter-widgets/base",
            "_view_module_version": "1.2.0",
            "_view_name": "StyleView",
            "bar_color": null,
            "description_width": ""
          }
        },
        "59349689175a4de9a810336e01b09c87": {
          "model_module": "@jupyter-widgets/base",
          "model_name": "LayoutModel",
          "model_module_version": "1.2.0",
          "state": {
            "_model_module": "@jupyter-widgets/base",
            "_model_module_version": "1.2.0",
            "_model_name": "LayoutModel",
            "_view_count": null,
            "_view_module": "@jupyter-widgets/base",
            "_view_module_version": "1.2.0",
            "_view_name": "LayoutView",
            "align_content": null,
            "align_items": null,
            "align_self": null,
            "border": null,
            "bottom": null,
            "display": null,
            "flex": null,
            "flex_flow": null,
            "grid_area": null,
            "grid_auto_columns": null,
            "grid_auto_flow": null,
            "grid_auto_rows": null,
            "grid_column": null,
            "grid_gap": null,
            "grid_row": null,
            "grid_template_areas": null,
            "grid_template_columns": null,
            "grid_template_rows": null,
            "height": null,
            "justify_content": null,
            "justify_items": null,
            "left": null,
            "margin": null,
            "max_height": null,
            "max_width": null,
            "min_height": null,
            "min_width": null,
            "object_fit": null,
            "object_position": null,
            "order": null,
            "overflow": null,
            "overflow_x": null,
            "overflow_y": null,
            "padding": null,
            "right": null,
            "top": null,
            "visibility": null,
            "width": null
          }
        },
        "d718e3642e564cfaa8ea05d4983edfb0": {
          "model_module": "@jupyter-widgets/controls",
          "model_name": "DescriptionStyleModel",
          "model_module_version": "1.5.0",
          "state": {
            "_model_module": "@jupyter-widgets/controls",
            "_model_module_version": "1.5.0",
            "_model_name": "DescriptionStyleModel",
            "_view_count": null,
            "_view_module": "@jupyter-widgets/base",
            "_view_module_version": "1.2.0",
            "_view_name": "StyleView",
            "description_width": ""
          }
        },
        "34514573ea384ea197423d640627b0f7": {
          "model_module": "@jupyter-widgets/controls",
          "model_name": "HBoxModel",
          "model_module_version": "1.5.0",
          "state": {
            "_dom_classes": [],
            "_model_module": "@jupyter-widgets/controls",
            "_model_module_version": "1.5.0",
            "_model_name": "HBoxModel",
            "_view_count": null,
            "_view_module": "@jupyter-widgets/controls",
            "_view_module_version": "1.5.0",
            "_view_name": "HBoxView",
            "box_style": "",
            "children": [
              "IPY_MODEL_4f2789f8b71b413cbc5af07d86d140d2",
              "IPY_MODEL_e522dc65fc954fefa2a8d73d3282a137",
              "IPY_MODEL_38b8cbef62544353a04cc74d957c9e6c"
            ],
            "layout": "IPY_MODEL_99dbf4931af24a6fae700d7b7d587645"
          }
        },
        "4f2789f8b71b413cbc5af07d86d140d2": {
          "model_module": "@jupyter-widgets/controls",
          "model_name": "HTMLModel",
          "model_module_version": "1.5.0",
          "state": {
            "_dom_classes": [],
            "_model_module": "@jupyter-widgets/controls",
            "_model_module_version": "1.5.0",
            "_model_name": "HTMLModel",
            "_view_count": null,
            "_view_module": "@jupyter-widgets/controls",
            "_view_module_version": "1.5.0",
            "_view_name": "HTMLView",
            "description": "",
            "description_tooltip": null,
            "layout": "IPY_MODEL_3a06fb53759d4bbcacc97c73b0ada250",
            "placeholder": "​",
            "style": "IPY_MODEL_10e74dfe423d4e2a86803e5fbd5415ae",
            "value": "Validation DataLoader 0: 100%"
          }
        },
        "e522dc65fc954fefa2a8d73d3282a137": {
          "model_module": "@jupyter-widgets/controls",
          "model_name": "FloatProgressModel",
          "model_module_version": "1.5.0",
          "state": {
            "_dom_classes": [],
            "_model_module": "@jupyter-widgets/controls",
            "_model_module_version": "1.5.0",
            "_model_name": "FloatProgressModel",
            "_view_count": null,
            "_view_module": "@jupyter-widgets/controls",
            "_view_module_version": "1.5.0",
            "_view_name": "ProgressView",
            "bar_style": "",
            "description": "",
            "description_tooltip": null,
            "layout": "IPY_MODEL_7bec60038e2747b6b81246b9acc2fcb3",
            "max": 44,
            "min": 0,
            "orientation": "horizontal",
            "style": "IPY_MODEL_91d17be0c2a64ef79b0490680ef179eb",
            "value": 44
          }
        },
        "38b8cbef62544353a04cc74d957c9e6c": {
          "model_module": "@jupyter-widgets/controls",
          "model_name": "HTMLModel",
          "model_module_version": "1.5.0",
          "state": {
            "_dom_classes": [],
            "_model_module": "@jupyter-widgets/controls",
            "_model_module_version": "1.5.0",
            "_model_name": "HTMLModel",
            "_view_count": null,
            "_view_module": "@jupyter-widgets/controls",
            "_view_module_version": "1.5.0",
            "_view_name": "HTMLView",
            "description": "",
            "description_tooltip": null,
            "layout": "IPY_MODEL_0395457376cd4201aefe474c6deb1b27",
            "placeholder": "​",
            "style": "IPY_MODEL_9f1dcc02d0ca46248110a8771fa6e7e0",
            "value": " 44/44 [00:04&lt;00:00, 10.94it/s]"
          }
        },
        "99dbf4931af24a6fae700d7b7d587645": {
          "model_module": "@jupyter-widgets/base",
          "model_name": "LayoutModel",
          "model_module_version": "1.2.0",
          "state": {
            "_model_module": "@jupyter-widgets/base",
            "_model_module_version": "1.2.0",
            "_model_name": "LayoutModel",
            "_view_count": null,
            "_view_module": "@jupyter-widgets/base",
            "_view_module_version": "1.2.0",
            "_view_name": "LayoutView",
            "align_content": null,
            "align_items": null,
            "align_self": null,
            "border": null,
            "bottom": null,
            "display": "inline-flex",
            "flex": null,
            "flex_flow": "row wrap",
            "grid_area": null,
            "grid_auto_columns": null,
            "grid_auto_flow": null,
            "grid_auto_rows": null,
            "grid_column": null,
            "grid_gap": null,
            "grid_row": null,
            "grid_template_areas": null,
            "grid_template_columns": null,
            "grid_template_rows": null,
            "height": null,
            "justify_content": null,
            "justify_items": null,
            "left": null,
            "margin": null,
            "max_height": null,
            "max_width": null,
            "min_height": null,
            "min_width": null,
            "object_fit": null,
            "object_position": null,
            "order": null,
            "overflow": null,
            "overflow_x": null,
            "overflow_y": null,
            "padding": null,
            "right": null,
            "top": null,
            "visibility": "hidden",
            "width": "100%"
          }
        },
        "3a06fb53759d4bbcacc97c73b0ada250": {
          "model_module": "@jupyter-widgets/base",
          "model_name": "LayoutModel",
          "model_module_version": "1.2.0",
          "state": {
            "_model_module": "@jupyter-widgets/base",
            "_model_module_version": "1.2.0",
            "_model_name": "LayoutModel",
            "_view_count": null,
            "_view_module": "@jupyter-widgets/base",
            "_view_module_version": "1.2.0",
            "_view_name": "LayoutView",
            "align_content": null,
            "align_items": null,
            "align_self": null,
            "border": null,
            "bottom": null,
            "display": null,
            "flex": null,
            "flex_flow": null,
            "grid_area": null,
            "grid_auto_columns": null,
            "grid_auto_flow": null,
            "grid_auto_rows": null,
            "grid_column": null,
            "grid_gap": null,
            "grid_row": null,
            "grid_template_areas": null,
            "grid_template_columns": null,
            "grid_template_rows": null,
            "height": null,
            "justify_content": null,
            "justify_items": null,
            "left": null,
            "margin": null,
            "max_height": null,
            "max_width": null,
            "min_height": null,
            "min_width": null,
            "object_fit": null,
            "object_position": null,
            "order": null,
            "overflow": null,
            "overflow_x": null,
            "overflow_y": null,
            "padding": null,
            "right": null,
            "top": null,
            "visibility": null,
            "width": null
          }
        },
        "10e74dfe423d4e2a86803e5fbd5415ae": {
          "model_module": "@jupyter-widgets/controls",
          "model_name": "DescriptionStyleModel",
          "model_module_version": "1.5.0",
          "state": {
            "_model_module": "@jupyter-widgets/controls",
            "_model_module_version": "1.5.0",
            "_model_name": "DescriptionStyleModel",
            "_view_count": null,
            "_view_module": "@jupyter-widgets/base",
            "_view_module_version": "1.2.0",
            "_view_name": "StyleView",
            "description_width": ""
          }
        },
        "7bec60038e2747b6b81246b9acc2fcb3": {
          "model_module": "@jupyter-widgets/base",
          "model_name": "LayoutModel",
          "model_module_version": "1.2.0",
          "state": {
            "_model_module": "@jupyter-widgets/base",
            "_model_module_version": "1.2.0",
            "_model_name": "LayoutModel",
            "_view_count": null,
            "_view_module": "@jupyter-widgets/base",
            "_view_module_version": "1.2.0",
            "_view_name": "LayoutView",
            "align_content": null,
            "align_items": null,
            "align_self": null,
            "border": null,
            "bottom": null,
            "display": null,
            "flex": "2",
            "flex_flow": null,
            "grid_area": null,
            "grid_auto_columns": null,
            "grid_auto_flow": null,
            "grid_auto_rows": null,
            "grid_column": null,
            "grid_gap": null,
            "grid_row": null,
            "grid_template_areas": null,
            "grid_template_columns": null,
            "grid_template_rows": null,
            "height": null,
            "justify_content": null,
            "justify_items": null,
            "left": null,
            "margin": null,
            "max_height": null,
            "max_width": null,
            "min_height": null,
            "min_width": null,
            "object_fit": null,
            "object_position": null,
            "order": null,
            "overflow": null,
            "overflow_x": null,
            "overflow_y": null,
            "padding": null,
            "right": null,
            "top": null,
            "visibility": null,
            "width": null
          }
        },
        "91d17be0c2a64ef79b0490680ef179eb": {
          "model_module": "@jupyter-widgets/controls",
          "model_name": "ProgressStyleModel",
          "model_module_version": "1.5.0",
          "state": {
            "_model_module": "@jupyter-widgets/controls",
            "_model_module_version": "1.5.0",
            "_model_name": "ProgressStyleModel",
            "_view_count": null,
            "_view_module": "@jupyter-widgets/base",
            "_view_module_version": "1.2.0",
            "_view_name": "StyleView",
            "bar_color": null,
            "description_width": ""
          }
        },
        "0395457376cd4201aefe474c6deb1b27": {
          "model_module": "@jupyter-widgets/base",
          "model_name": "LayoutModel",
          "model_module_version": "1.2.0",
          "state": {
            "_model_module": "@jupyter-widgets/base",
            "_model_module_version": "1.2.0",
            "_model_name": "LayoutModel",
            "_view_count": null,
            "_view_module": "@jupyter-widgets/base",
            "_view_module_version": "1.2.0",
            "_view_name": "LayoutView",
            "align_content": null,
            "align_items": null,
            "align_self": null,
            "border": null,
            "bottom": null,
            "display": null,
            "flex": null,
            "flex_flow": null,
            "grid_area": null,
            "grid_auto_columns": null,
            "grid_auto_flow": null,
            "grid_auto_rows": null,
            "grid_column": null,
            "grid_gap": null,
            "grid_row": null,
            "grid_template_areas": null,
            "grid_template_columns": null,
            "grid_template_rows": null,
            "height": null,
            "justify_content": null,
            "justify_items": null,
            "left": null,
            "margin": null,
            "max_height": null,
            "max_width": null,
            "min_height": null,
            "min_width": null,
            "object_fit": null,
            "object_position": null,
            "order": null,
            "overflow": null,
            "overflow_x": null,
            "overflow_y": null,
            "padding": null,
            "right": null,
            "top": null,
            "visibility": null,
            "width": null
          }
        },
        "9f1dcc02d0ca46248110a8771fa6e7e0": {
          "model_module": "@jupyter-widgets/controls",
          "model_name": "DescriptionStyleModel",
          "model_module_version": "1.5.0",
          "state": {
            "_model_module": "@jupyter-widgets/controls",
            "_model_module_version": "1.5.0",
            "_model_name": "DescriptionStyleModel",
            "_view_count": null,
            "_view_module": "@jupyter-widgets/base",
            "_view_module_version": "1.2.0",
            "_view_name": "StyleView",
            "description_width": ""
          }
        },
        "e0f88e671d0643169c3479eb28bd43bf": {
          "model_module": "@jupyter-widgets/controls",
          "model_name": "HBoxModel",
          "model_module_version": "1.5.0",
          "state": {
            "_dom_classes": [],
            "_model_module": "@jupyter-widgets/controls",
            "_model_module_version": "1.5.0",
            "_model_name": "HBoxModel",
            "_view_count": null,
            "_view_module": "@jupyter-widgets/controls",
            "_view_module_version": "1.5.0",
            "_view_name": "HBoxView",
            "box_style": "",
            "children": [
              "IPY_MODEL_0df5d1e2f05f45d682afa9d517182261",
              "IPY_MODEL_e14a549124214fa783c0dcdeb8cc4678",
              "IPY_MODEL_4aa6078b0b0b4c19a1f51609b2daf82f"
            ],
            "layout": "IPY_MODEL_6dac18dd54c943b388ab481d84a51399"
          }
        },
        "0df5d1e2f05f45d682afa9d517182261": {
          "model_module": "@jupyter-widgets/controls",
          "model_name": "HTMLModel",
          "model_module_version": "1.5.0",
          "state": {
            "_dom_classes": [],
            "_model_module": "@jupyter-widgets/controls",
            "_model_module_version": "1.5.0",
            "_model_name": "HTMLModel",
            "_view_count": null,
            "_view_module": "@jupyter-widgets/controls",
            "_view_module_version": "1.5.0",
            "_view_name": "HTMLView",
            "description": "",
            "description_tooltip": null,
            "layout": "IPY_MODEL_2eadf954b1e448d1b2f0ff28912d0c5d",
            "placeholder": "​",
            "style": "IPY_MODEL_b9b0f1df04d94b519c24fa7541f4fbf9",
            "value": "Validation DataLoader 0: 100%"
          }
        },
        "e14a549124214fa783c0dcdeb8cc4678": {
          "model_module": "@jupyter-widgets/controls",
          "model_name": "FloatProgressModel",
          "model_module_version": "1.5.0",
          "state": {
            "_dom_classes": [],
            "_model_module": "@jupyter-widgets/controls",
            "_model_module_version": "1.5.0",
            "_model_name": "FloatProgressModel",
            "_view_count": null,
            "_view_module": "@jupyter-widgets/controls",
            "_view_module_version": "1.5.0",
            "_view_name": "ProgressView",
            "bar_style": "",
            "description": "",
            "description_tooltip": null,
            "layout": "IPY_MODEL_3d89bf8a953943bca3509d5b30a861ac",
            "max": 44,
            "min": 0,
            "orientation": "horizontal",
            "style": "IPY_MODEL_4bbbb0eb43dc46c68e4c44cb9bf86336",
            "value": 44
          }
        },
        "4aa6078b0b0b4c19a1f51609b2daf82f": {
          "model_module": "@jupyter-widgets/controls",
          "model_name": "HTMLModel",
          "model_module_version": "1.5.0",
          "state": {
            "_dom_classes": [],
            "_model_module": "@jupyter-widgets/controls",
            "_model_module_version": "1.5.0",
            "_model_name": "HTMLModel",
            "_view_count": null,
            "_view_module": "@jupyter-widgets/controls",
            "_view_module_version": "1.5.0",
            "_view_name": "HTMLView",
            "description": "",
            "description_tooltip": null,
            "layout": "IPY_MODEL_424d844723b94cdb8e781f94c65583b3",
            "placeholder": "​",
            "style": "IPY_MODEL_9d7b966af9cd4d38b5265cd66176ddb7",
            "value": " 44/44 [00:04&lt;00:00,  9.34it/s]"
          }
        },
        "6dac18dd54c943b388ab481d84a51399": {
          "model_module": "@jupyter-widgets/base",
          "model_name": "LayoutModel",
          "model_module_version": "1.2.0",
          "state": {
            "_model_module": "@jupyter-widgets/base",
            "_model_module_version": "1.2.0",
            "_model_name": "LayoutModel",
            "_view_count": null,
            "_view_module": "@jupyter-widgets/base",
            "_view_module_version": "1.2.0",
            "_view_name": "LayoutView",
            "align_content": null,
            "align_items": null,
            "align_self": null,
            "border": null,
            "bottom": null,
            "display": "inline-flex",
            "flex": null,
            "flex_flow": "row wrap",
            "grid_area": null,
            "grid_auto_columns": null,
            "grid_auto_flow": null,
            "grid_auto_rows": null,
            "grid_column": null,
            "grid_gap": null,
            "grid_row": null,
            "grid_template_areas": null,
            "grid_template_columns": null,
            "grid_template_rows": null,
            "height": null,
            "justify_content": null,
            "justify_items": null,
            "left": null,
            "margin": null,
            "max_height": null,
            "max_width": null,
            "min_height": null,
            "min_width": null,
            "object_fit": null,
            "object_position": null,
            "order": null,
            "overflow": null,
            "overflow_x": null,
            "overflow_y": null,
            "padding": null,
            "right": null,
            "top": null,
            "visibility": "hidden",
            "width": "100%"
          }
        },
        "2eadf954b1e448d1b2f0ff28912d0c5d": {
          "model_module": "@jupyter-widgets/base",
          "model_name": "LayoutModel",
          "model_module_version": "1.2.0",
          "state": {
            "_model_module": "@jupyter-widgets/base",
            "_model_module_version": "1.2.0",
            "_model_name": "LayoutModel",
            "_view_count": null,
            "_view_module": "@jupyter-widgets/base",
            "_view_module_version": "1.2.0",
            "_view_name": "LayoutView",
            "align_content": null,
            "align_items": null,
            "align_self": null,
            "border": null,
            "bottom": null,
            "display": null,
            "flex": null,
            "flex_flow": null,
            "grid_area": null,
            "grid_auto_columns": null,
            "grid_auto_flow": null,
            "grid_auto_rows": null,
            "grid_column": null,
            "grid_gap": null,
            "grid_row": null,
            "grid_template_areas": null,
            "grid_template_columns": null,
            "grid_template_rows": null,
            "height": null,
            "justify_content": null,
            "justify_items": null,
            "left": null,
            "margin": null,
            "max_height": null,
            "max_width": null,
            "min_height": null,
            "min_width": null,
            "object_fit": null,
            "object_position": null,
            "order": null,
            "overflow": null,
            "overflow_x": null,
            "overflow_y": null,
            "padding": null,
            "right": null,
            "top": null,
            "visibility": null,
            "width": null
          }
        },
        "b9b0f1df04d94b519c24fa7541f4fbf9": {
          "model_module": "@jupyter-widgets/controls",
          "model_name": "DescriptionStyleModel",
          "model_module_version": "1.5.0",
          "state": {
            "_model_module": "@jupyter-widgets/controls",
            "_model_module_version": "1.5.0",
            "_model_name": "DescriptionStyleModel",
            "_view_count": null,
            "_view_module": "@jupyter-widgets/base",
            "_view_module_version": "1.2.0",
            "_view_name": "StyleView",
            "description_width": ""
          }
        },
        "3d89bf8a953943bca3509d5b30a861ac": {
          "model_module": "@jupyter-widgets/base",
          "model_name": "LayoutModel",
          "model_module_version": "1.2.0",
          "state": {
            "_model_module": "@jupyter-widgets/base",
            "_model_module_version": "1.2.0",
            "_model_name": "LayoutModel",
            "_view_count": null,
            "_view_module": "@jupyter-widgets/base",
            "_view_module_version": "1.2.0",
            "_view_name": "LayoutView",
            "align_content": null,
            "align_items": null,
            "align_self": null,
            "border": null,
            "bottom": null,
            "display": null,
            "flex": "2",
            "flex_flow": null,
            "grid_area": null,
            "grid_auto_columns": null,
            "grid_auto_flow": null,
            "grid_auto_rows": null,
            "grid_column": null,
            "grid_gap": null,
            "grid_row": null,
            "grid_template_areas": null,
            "grid_template_columns": null,
            "grid_template_rows": null,
            "height": null,
            "justify_content": null,
            "justify_items": null,
            "left": null,
            "margin": null,
            "max_height": null,
            "max_width": null,
            "min_height": null,
            "min_width": null,
            "object_fit": null,
            "object_position": null,
            "order": null,
            "overflow": null,
            "overflow_x": null,
            "overflow_y": null,
            "padding": null,
            "right": null,
            "top": null,
            "visibility": null,
            "width": null
          }
        },
        "4bbbb0eb43dc46c68e4c44cb9bf86336": {
          "model_module": "@jupyter-widgets/controls",
          "model_name": "ProgressStyleModel",
          "model_module_version": "1.5.0",
          "state": {
            "_model_module": "@jupyter-widgets/controls",
            "_model_module_version": "1.5.0",
            "_model_name": "ProgressStyleModel",
            "_view_count": null,
            "_view_module": "@jupyter-widgets/base",
            "_view_module_version": "1.2.0",
            "_view_name": "StyleView",
            "bar_color": null,
            "description_width": ""
          }
        },
        "424d844723b94cdb8e781f94c65583b3": {
          "model_module": "@jupyter-widgets/base",
          "model_name": "LayoutModel",
          "model_module_version": "1.2.0",
          "state": {
            "_model_module": "@jupyter-widgets/base",
            "_model_module_version": "1.2.0",
            "_model_name": "LayoutModel",
            "_view_count": null,
            "_view_module": "@jupyter-widgets/base",
            "_view_module_version": "1.2.0",
            "_view_name": "LayoutView",
            "align_content": null,
            "align_items": null,
            "align_self": null,
            "border": null,
            "bottom": null,
            "display": null,
            "flex": null,
            "flex_flow": null,
            "grid_area": null,
            "grid_auto_columns": null,
            "grid_auto_flow": null,
            "grid_auto_rows": null,
            "grid_column": null,
            "grid_gap": null,
            "grid_row": null,
            "grid_template_areas": null,
            "grid_template_columns": null,
            "grid_template_rows": null,
            "height": null,
            "justify_content": null,
            "justify_items": null,
            "left": null,
            "margin": null,
            "max_height": null,
            "max_width": null,
            "min_height": null,
            "min_width": null,
            "object_fit": null,
            "object_position": null,
            "order": null,
            "overflow": null,
            "overflow_x": null,
            "overflow_y": null,
            "padding": null,
            "right": null,
            "top": null,
            "visibility": null,
            "width": null
          }
        },
        "9d7b966af9cd4d38b5265cd66176ddb7": {
          "model_module": "@jupyter-widgets/controls",
          "model_name": "DescriptionStyleModel",
          "model_module_version": "1.5.0",
          "state": {
            "_model_module": "@jupyter-widgets/controls",
            "_model_module_version": "1.5.0",
            "_model_name": "DescriptionStyleModel",
            "_view_count": null,
            "_view_module": "@jupyter-widgets/base",
            "_view_module_version": "1.2.0",
            "_view_name": "StyleView",
            "description_width": ""
          }
        },
        "00da3a8475a844f5809cc50f62c3d129": {
          "model_module": "@jupyter-widgets/controls",
          "model_name": "HBoxModel",
          "model_module_version": "1.5.0",
          "state": {
            "_dom_classes": [],
            "_model_module": "@jupyter-widgets/controls",
            "_model_module_version": "1.5.0",
            "_model_name": "HBoxModel",
            "_view_count": null,
            "_view_module": "@jupyter-widgets/controls",
            "_view_module_version": "1.5.0",
            "_view_name": "HBoxView",
            "box_style": "",
            "children": [
              "IPY_MODEL_6ad41710b107439e94d3f43111507632",
              "IPY_MODEL_5078540bb05f487b86dbac204b78e8b5",
              "IPY_MODEL_501c198f2a3a41e4999b47d50b7746c2"
            ],
            "layout": "IPY_MODEL_4ab62725e5ee45478199a00b156ff2c7"
          }
        },
        "6ad41710b107439e94d3f43111507632": {
          "model_module": "@jupyter-widgets/controls",
          "model_name": "HTMLModel",
          "model_module_version": "1.5.0",
          "state": {
            "_dom_classes": [],
            "_model_module": "@jupyter-widgets/controls",
            "_model_module_version": "1.5.0",
            "_model_name": "HTMLModel",
            "_view_count": null,
            "_view_module": "@jupyter-widgets/controls",
            "_view_module_version": "1.5.0",
            "_view_name": "HTMLView",
            "description": "",
            "description_tooltip": null,
            "layout": "IPY_MODEL_dfab04b9a8fa4b63846d13065c4a2fe0",
            "placeholder": "​",
            "style": "IPY_MODEL_430ecf1657484aee8039efe3a6bf9b33",
            "value": "Validation DataLoader 0: 100%"
          }
        },
        "5078540bb05f487b86dbac204b78e8b5": {
          "model_module": "@jupyter-widgets/controls",
          "model_name": "FloatProgressModel",
          "model_module_version": "1.5.0",
          "state": {
            "_dom_classes": [],
            "_model_module": "@jupyter-widgets/controls",
            "_model_module_version": "1.5.0",
            "_model_name": "FloatProgressModel",
            "_view_count": null,
            "_view_module": "@jupyter-widgets/controls",
            "_view_module_version": "1.5.0",
            "_view_name": "ProgressView",
            "bar_style": "",
            "description": "",
            "description_tooltip": null,
            "layout": "IPY_MODEL_5f4b398d11264610a3b76439b398d514",
            "max": 44,
            "min": 0,
            "orientation": "horizontal",
            "style": "IPY_MODEL_16d0d45f6ff44973998eba8259bd1b6c",
            "value": 44
          }
        },
        "501c198f2a3a41e4999b47d50b7746c2": {
          "model_module": "@jupyter-widgets/controls",
          "model_name": "HTMLModel",
          "model_module_version": "1.5.0",
          "state": {
            "_dom_classes": [],
            "_model_module": "@jupyter-widgets/controls",
            "_model_module_version": "1.5.0",
            "_model_name": "HTMLModel",
            "_view_count": null,
            "_view_module": "@jupyter-widgets/controls",
            "_view_module_version": "1.5.0",
            "_view_name": "HTMLView",
            "description": "",
            "description_tooltip": null,
            "layout": "IPY_MODEL_17ae75197f3e4fc8b89372745ae2695b",
            "placeholder": "​",
            "style": "IPY_MODEL_b74d5a1097d449cd84e3642bc9e585b8",
            "value": " 44/44 [00:04&lt;00:00, 10.11it/s]"
          }
        },
        "4ab62725e5ee45478199a00b156ff2c7": {
          "model_module": "@jupyter-widgets/base",
          "model_name": "LayoutModel",
          "model_module_version": "1.2.0",
          "state": {
            "_model_module": "@jupyter-widgets/base",
            "_model_module_version": "1.2.0",
            "_model_name": "LayoutModel",
            "_view_count": null,
            "_view_module": "@jupyter-widgets/base",
            "_view_module_version": "1.2.0",
            "_view_name": "LayoutView",
            "align_content": null,
            "align_items": null,
            "align_self": null,
            "border": null,
            "bottom": null,
            "display": "inline-flex",
            "flex": null,
            "flex_flow": "row wrap",
            "grid_area": null,
            "grid_auto_columns": null,
            "grid_auto_flow": null,
            "grid_auto_rows": null,
            "grid_column": null,
            "grid_gap": null,
            "grid_row": null,
            "grid_template_areas": null,
            "grid_template_columns": null,
            "grid_template_rows": null,
            "height": null,
            "justify_content": null,
            "justify_items": null,
            "left": null,
            "margin": null,
            "max_height": null,
            "max_width": null,
            "min_height": null,
            "min_width": null,
            "object_fit": null,
            "object_position": null,
            "order": null,
            "overflow": null,
            "overflow_x": null,
            "overflow_y": null,
            "padding": null,
            "right": null,
            "top": null,
            "visibility": "hidden",
            "width": "100%"
          }
        },
        "dfab04b9a8fa4b63846d13065c4a2fe0": {
          "model_module": "@jupyter-widgets/base",
          "model_name": "LayoutModel",
          "model_module_version": "1.2.0",
          "state": {
            "_model_module": "@jupyter-widgets/base",
            "_model_module_version": "1.2.0",
            "_model_name": "LayoutModel",
            "_view_count": null,
            "_view_module": "@jupyter-widgets/base",
            "_view_module_version": "1.2.0",
            "_view_name": "LayoutView",
            "align_content": null,
            "align_items": null,
            "align_self": null,
            "border": null,
            "bottom": null,
            "display": null,
            "flex": null,
            "flex_flow": null,
            "grid_area": null,
            "grid_auto_columns": null,
            "grid_auto_flow": null,
            "grid_auto_rows": null,
            "grid_column": null,
            "grid_gap": null,
            "grid_row": null,
            "grid_template_areas": null,
            "grid_template_columns": null,
            "grid_template_rows": null,
            "height": null,
            "justify_content": null,
            "justify_items": null,
            "left": null,
            "margin": null,
            "max_height": null,
            "max_width": null,
            "min_height": null,
            "min_width": null,
            "object_fit": null,
            "object_position": null,
            "order": null,
            "overflow": null,
            "overflow_x": null,
            "overflow_y": null,
            "padding": null,
            "right": null,
            "top": null,
            "visibility": null,
            "width": null
          }
        },
        "430ecf1657484aee8039efe3a6bf9b33": {
          "model_module": "@jupyter-widgets/controls",
          "model_name": "DescriptionStyleModel",
          "model_module_version": "1.5.0",
          "state": {
            "_model_module": "@jupyter-widgets/controls",
            "_model_module_version": "1.5.0",
            "_model_name": "DescriptionStyleModel",
            "_view_count": null,
            "_view_module": "@jupyter-widgets/base",
            "_view_module_version": "1.2.0",
            "_view_name": "StyleView",
            "description_width": ""
          }
        },
        "5f4b398d11264610a3b76439b398d514": {
          "model_module": "@jupyter-widgets/base",
          "model_name": "LayoutModel",
          "model_module_version": "1.2.0",
          "state": {
            "_model_module": "@jupyter-widgets/base",
            "_model_module_version": "1.2.0",
            "_model_name": "LayoutModel",
            "_view_count": null,
            "_view_module": "@jupyter-widgets/base",
            "_view_module_version": "1.2.0",
            "_view_name": "LayoutView",
            "align_content": null,
            "align_items": null,
            "align_self": null,
            "border": null,
            "bottom": null,
            "display": null,
            "flex": "2",
            "flex_flow": null,
            "grid_area": null,
            "grid_auto_columns": null,
            "grid_auto_flow": null,
            "grid_auto_rows": null,
            "grid_column": null,
            "grid_gap": null,
            "grid_row": null,
            "grid_template_areas": null,
            "grid_template_columns": null,
            "grid_template_rows": null,
            "height": null,
            "justify_content": null,
            "justify_items": null,
            "left": null,
            "margin": null,
            "max_height": null,
            "max_width": null,
            "min_height": null,
            "min_width": null,
            "object_fit": null,
            "object_position": null,
            "order": null,
            "overflow": null,
            "overflow_x": null,
            "overflow_y": null,
            "padding": null,
            "right": null,
            "top": null,
            "visibility": null,
            "width": null
          }
        },
        "16d0d45f6ff44973998eba8259bd1b6c": {
          "model_module": "@jupyter-widgets/controls",
          "model_name": "ProgressStyleModel",
          "model_module_version": "1.5.0",
          "state": {
            "_model_module": "@jupyter-widgets/controls",
            "_model_module_version": "1.5.0",
            "_model_name": "ProgressStyleModel",
            "_view_count": null,
            "_view_module": "@jupyter-widgets/base",
            "_view_module_version": "1.2.0",
            "_view_name": "StyleView",
            "bar_color": null,
            "description_width": ""
          }
        },
        "17ae75197f3e4fc8b89372745ae2695b": {
          "model_module": "@jupyter-widgets/base",
          "model_name": "LayoutModel",
          "model_module_version": "1.2.0",
          "state": {
            "_model_module": "@jupyter-widgets/base",
            "_model_module_version": "1.2.0",
            "_model_name": "LayoutModel",
            "_view_count": null,
            "_view_module": "@jupyter-widgets/base",
            "_view_module_version": "1.2.0",
            "_view_name": "LayoutView",
            "align_content": null,
            "align_items": null,
            "align_self": null,
            "border": null,
            "bottom": null,
            "display": null,
            "flex": null,
            "flex_flow": null,
            "grid_area": null,
            "grid_auto_columns": null,
            "grid_auto_flow": null,
            "grid_auto_rows": null,
            "grid_column": null,
            "grid_gap": null,
            "grid_row": null,
            "grid_template_areas": null,
            "grid_template_columns": null,
            "grid_template_rows": null,
            "height": null,
            "justify_content": null,
            "justify_items": null,
            "left": null,
            "margin": null,
            "max_height": null,
            "max_width": null,
            "min_height": null,
            "min_width": null,
            "object_fit": null,
            "object_position": null,
            "order": null,
            "overflow": null,
            "overflow_x": null,
            "overflow_y": null,
            "padding": null,
            "right": null,
            "top": null,
            "visibility": null,
            "width": null
          }
        },
        "b74d5a1097d449cd84e3642bc9e585b8": {
          "model_module": "@jupyter-widgets/controls",
          "model_name": "DescriptionStyleModel",
          "model_module_version": "1.5.0",
          "state": {
            "_model_module": "@jupyter-widgets/controls",
            "_model_module_version": "1.5.0",
            "_model_name": "DescriptionStyleModel",
            "_view_count": null,
            "_view_module": "@jupyter-widgets/base",
            "_view_module_version": "1.2.0",
            "_view_name": "StyleView",
            "description_width": ""
          }
        }
      }
    }
  },
  "nbformat": 4,
  "nbformat_minor": 0
}