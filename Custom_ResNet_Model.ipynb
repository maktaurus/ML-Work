{
  "nbformat": 4,
  "nbformat_minor": 0,
  "metadata": {
    "colab": {
      "provenance": [],
      "authorship_tag": "ABX9TyMTcwjdDD6A2zK+87moDp+s",
      "include_colab_link": true
    },
    "kernelspec": {
      "name": "python3",
      "display_name": "Python 3"
    },
    "language_info": {
      "name": "python"
    }
  },
  "cells": [
    {
      "cell_type": "markdown",
      "metadata": {
        "id": "view-in-github",
        "colab_type": "text"
      },
      "source": [
        "<a href=\"https://colab.research.google.com/github/maktaurus/ML-Work/blob/main/Custom_ResNet_Model.ipynb\" target=\"_parent\"><img src=\"https://colab.research.google.com/assets/colab-badge.svg\" alt=\"Open In Colab\"/></a>"
      ]
    },
    {
      "cell_type": "markdown",
      "source": [
        "Below is the custom ResNet Model"
      ],
      "metadata": {
        "id": "3gd34eYUChqn"
      }
    },
    {
      "cell_type": "code",
      "source": [
        "class CustomConv2D(tf.keras.layers.Layer):\n",
        "  def __init__(self, filters, kernal_size, n_strides, padding=\"valid\") -> None:\n",
        "    super().__init__()\n",
        "    self.conv = tf.keras.layers.Conv2D(filters, kernal_size, n_strides, activation=\"relu\", padding=padding)\n",
        "    self.batch_norm = tf.keras.layers.BatchNormalization()\n",
        "\n",
        "  def call(self, x, training=True):\n",
        "    x = self.conv(x)\n",
        "    x = self.batch_norm(x, training)\n",
        "\n",
        "    return x"
      ],
      "metadata": {
        "id": "Xnu5JbNSCkHW"
      },
      "execution_count": null,
      "outputs": []
    },
    {
      "cell_type": "code",
      "source": [
        "# ResidualBlock\n",
        "class ResidualBlock(tf.keras.layers.Layer):\n",
        "  def __init__(self, filters, n_strides=1) -> None:\n",
        "    super().__init__()\n",
        "    self.dotted = (n_strides !=1)\n",
        "    self.custom_conv_1 = CustomConv2D(filters, 3, n_strides, padding=\"same\")\n",
        "    self.custom_conv_2 = CustomConv2D(filters, 3, 1, padding=\"same\")\n",
        "    self.activation = tf.keras.layers.Activation(\"relu\")\n",
        "\n",
        "    if self.dotted:\n",
        "      self.custom_conv_3 = CustomConv2D(filters, 1, n_strides)\n",
        "\n",
        "  def call(self,input,training=True):\n",
        "    x = self.custom_conv_1(input, training)\n",
        "    x = self.custom_conv_2(x, training)\n",
        "\n",
        "    if self.dotted:\n",
        "      x_add = self.custom_conv_3(input, training)\n",
        "      x_add = tf.keras.layers.Add()([x,x_add])\n",
        "    else:\n",
        "      x_add = tf.keras.layers.Add()([x, input])\n",
        "\n",
        "    return self.activation(x_add)\n"
      ],
      "metadata": {
        "id": "3aD8WhqmCmOa"
      },
      "execution_count": null,
      "outputs": []
    },
    {
      "cell_type": "code",
      "source": [
        "#Resnet Model -\n",
        "\n",
        "class ResNet34(tf.keras.Model):\n",
        "  def __init__(self) -> None:\n",
        "    super().__init__()\n",
        "\n",
        "    self.conv_1 = CustomConv2D(64,7,2,padding=\"same\")\n",
        "    self.max_pool = tf.keras.layers.MaxPooling2D(3,3)\n",
        "\n",
        "    self.conv_2_1 = ResidualBlock(64)\n",
        "    self.conv_2_2 = ResidualBlock(64)\n",
        "    self.conv_2_3 = ResidualBlock(64)\n",
        "\n",
        "    self.conv_3_1 = ResidualBlock(128,2)\n",
        "    self.conv_3_2 = ResidualBlock(128)\n",
        "    self.conv_3_3 = ResidualBlock(128)\n",
        "    self.conv_3_4 = ResidualBlock(128)\n",
        "\n",
        "    self.conv_4_1 = ResidualBlock(256,2)\n",
        "    self.conv_4_2 = ResidualBlock(256)\n",
        "    self.conv_4_3 = ResidualBlock(256)\n",
        "    self.conv_4_4 = ResidualBlock(256)\n",
        "    self.conv_4_5 = ResidualBlock(256)\n",
        "    self.conv_4_6 = ResidualBlock(256)\n",
        "\n",
        "    self.conv_5_1 = ResidualBlock(512,2)\n",
        "    self.conv_5_2 = ResidualBlock(512)\n",
        "    self.conv_5_3 = ResidualBlock(512)\n",
        "    self.conv_5_4 = ResidualBlock(512)\n",
        "\n",
        "    self.global_pool = tf.keras.layers.GlobalAveragePooling2D()\n",
        "\n",
        "    self.fc_3 = tf.keras.layers.Dense(3, activation=\"softmax\")\n",
        "\n",
        "  def call(self, x, training=True):\n",
        "    x = self.conv_1(x)\n",
        "    x = self.max_pool(x)\n",
        "\n",
        "    x = self.conv_2_1(x, training)\n",
        "    x = self.conv_2_2(x, training)\n",
        "    x = self.conv_2_3(x, training)\n",
        "\n",
        "\n",
        "    x = self.conv_3_1(x, training)\n",
        "    x = self.conv_3_2(x, training)\n",
        "    x = self.conv_3_3(x, training)\n",
        "    x = self.conv_3_4(x, training)\n",
        "\n",
        "    x = self.conv_4_1(x, training)\n",
        "    x = self.conv_4_2(x, training)\n",
        "    x = self.conv_4_3(x, training)\n",
        "    x = self.conv_4_4(x, training)\n",
        "    x = self.conv_4_5(x, training)\n",
        "    x = self.conv_4_6(x, training)\n",
        "\n",
        "    x = self.conv_5_1(x, training)\n",
        "    x = self.conv_5_2(x, training)\n",
        "    x = self.conv_5_3(x, training)\n",
        "    x = self.conv_5_4(x, training)\n",
        "\n",
        "    x = self.global_pool(x)\n",
        "\n",
        "    return self.fc_3(x)"
      ],
      "metadata": {
        "id": "jQRBZkTUCmHk"
      },
      "execution_count": null,
      "outputs": []
    },
    {
      "cell_type": "code",
      "source": [
        "res_model = ResNet34()\n",
        "res_model(tf.zeros([1,255,255,3]))\n",
        "res_model.summary()"
      ],
      "metadata": {
        "id": "RJf3MVAwCsJl"
      },
      "execution_count": null,
      "outputs": []
    }
  ]
}