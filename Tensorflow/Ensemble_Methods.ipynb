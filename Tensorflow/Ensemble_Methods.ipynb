{
  "nbformat": 4,
  "nbformat_minor": 0,
  "metadata": {
    "colab": {
      "provenance": [],
      "authorship_tag": "ABX9TyO2i/QlwmcJWtQc7RMKwMEa",
      "include_colab_link": true
    },
    "kernelspec": {
      "name": "python3",
      "display_name": "Python 3"
    },
    "language_info": {
      "name": "python"
    }
  },
  "cells": [
    {
      "cell_type": "markdown",
      "metadata": {
        "id": "view-in-github",
        "colab_type": "text"
      },
      "source": [
        "<a href=\"https://colab.research.google.com/github/maktaurus/ML-Work/blob/main/Ensemble_Methods.ipynb\" target=\"_parent\"><img src=\"https://colab.research.google.com/assets/colab-badge.svg\" alt=\"Open In Colab\"/></a>"
      ]
    },
    {
      "cell_type": "markdown",
      "source": [
        "# Ensemble Methods\n",
        " Ensemble methods is a machine learning technique that combines several base models in order to produce one optimal predictive model"
      ],
      "metadata": {
        "id": "wftlTRHFurmz"
      }
    },
    {
      "cell_type": "code",
      "execution_count": null,
      "metadata": {
        "id": "pn9-TyNSuDBg"
      },
      "outputs": [],
      "source": [
        "from tensorflow.keras.applications.inception_v3 import InceptionV3\n",
        "from tensorflow.keras.applications.xception import Xception"
      ]
    },
    {
      "cell_type": "markdown",
      "source": [
        "Create two models, here we have taken Inception_V3 and Xception.\n",
        "Then take their layer on which you want output"
      ],
      "metadata": {
        "id": "ojnNmhWIv2Ej"
      }
    },
    {
      "cell_type": "code",
      "source": [
        "incep_base_model = InceptionV3(weights=\"imagenet\", include_top=False, input_shape=(250,250,3))\n",
        "incep_base_model.trainable = False\n",
        "incep_base_model_out =  incep_base_model.get_layer(\"mixed10\").output"
      ],
      "metadata": {
        "id": "5sXe9KddvO6o"
      },
      "execution_count": null,
      "outputs": []
    },
    {
      "cell_type": "code",
      "source": [
        "xcep_base_model = Xception(weights=\"imagenet\", include_top=False, input_shape=(250,250,3))\n",
        "xcep_base_model.trainable = False\n",
        "xcep_base_model_out = xcep_base_model.get_layer(\"block14_sepconv2_act\").output"
      ],
      "metadata": {
        "id": "Vh7A-t9tvOrB"
      },
      "execution_count": null,
      "outputs": []
    },
    {
      "cell_type": "markdown",
      "source": [
        "Then, create two diiferent models and comiple them and train them on your database."
      ],
      "metadata": {
        "id": "olZHxTTAwC2S"
      }
    },
    {
      "cell_type": "code",
      "source": [
        "x = incep_base_model_out\n",
        "x = tf.keras.layers.GlobalAveragePooling2D()(x)\n",
        "x = tf.keras.layers.Dense(128, activation=\"relu\")(x)\n",
        "x = tf.keras.layers.Dense(256, activation=\"relu\")(x)\n",
        "output = tf.keras.layers.Dense(100, activation=\"softmax\")(x)\n",
        "\n",
        "incep_model = tf.keras.Model(incep_base_model.input, output)\n",
        "incep_model.summary()"
      ],
      "metadata": {
        "id": "oEhjbAZ4vSsE"
      },
      "execution_count": null,
      "outputs": []
    },
    {
      "cell_type": "code",
      "source": [
        "x = xcep_base_model_out\n",
        "x = tf.keras.layers.GlobalAveragePooling2D()(x)\n",
        "x = tf.keras.layers.Dense(128, activation=\"relu\")(x)\n",
        "x = tf.keras.layers.Dense(256, activation=\"relu\")(x)\n",
        "output = tf.keras.layers.Dense(100, activation=\"softmax\")(x)\n",
        "\n",
        "xcep_model = tf.keras.Model(xcep_base_model.input, output)\n",
        "xcep_model.summary()"
      ],
      "metadata": {
        "id": "eN-mEY1avSpi"
      },
      "execution_count": null,
      "outputs": []
    },
    {
      "cell_type": "code",
      "source": [
        "incep_model.compile(optimizer=tf.keras.optimizers.Adam(learning_rate=0.001), loss=tf.keras.losses.SparseCategoricalCrossentropy(), metrics=[\"accuracy\"])\n",
        "xcep_model.compile(optimizer=tf.keras.optimizers.Adam(learning_rate=0.001), loss=tf.keras.losses.SparseCategoricalCrossentropy(), metrics=[\"accuracy\"])"
      ],
      "metadata": {
        "id": "oWM_chHsvSnV"
      },
      "execution_count": null,
      "outputs": []
    },
    {
      "cell_type": "code",
      "source": [
        "incep_model.fit(train_df, validation_data=val_df, epochs=10, callbacks=[tensorboard,checkpoint_incep])\n"
      ],
      "metadata": {
        "id": "FsiHHkpGvSk0"
      },
      "execution_count": null,
      "outputs": []
    },
    {
      "cell_type": "code",
      "source": [
        "xcep_model.fit(train_df, validation_data=val_df, epochs=10, callbacks=[tensorboard,checkpoint])"
      ],
      "metadata": {
        "id": "_WlTf9_uvwUm"
      },
      "execution_count": null,
      "outputs": []
    },
    {
      "cell_type": "code",
      "source": [
        "Then, take the two models and combine them to get the best result. Sometimes you get the best result, but sometime"
      ],
      "metadata": {
        "id": "fqRkGDegwQbX"
      },
      "execution_count": null,
      "outputs": []
    },
    {
      "cell_type": "code",
      "source": [
        "# Ensemble model\n",
        "\n",
        "input = tf.keras.Input(shape=(None,None,3))\n",
        "\n",
        "y_1 = incep_model(input)\n",
        "y_2 = xcep_model(input)\n",
        "\n",
        "output = 0.5*y_1 + 0.5*y_2\n",
        "ensemble_model = tf.keras.Model(input, output)"
      ],
      "metadata": {
        "id": "UdR2rjavvy-S"
      },
      "execution_count": null,
      "outputs": []
    },
    {
      "cell_type": "markdown",
      "source": [
        "Use below to predict and plot the images\n",
        "\n"
      ],
      "metadata": {
        "id": "wt4p8Ax7yXCZ"
      }
    },
    {
      "cell_type": "code",
      "source": [
        "testing_dir = os.path.join(\"/content/testing/\")\n",
        "list_test = os.listdir(testing_dir)\n",
        "plt.figure(figsize=(10,10), constrained_layout=True)\n",
        "for a,x in enumerate(list_test):\n",
        "  image = load_img(testing_dir+x, target_size=(250,250))\n",
        "  img = tf.keras.utils.img_to_array(image)\n",
        "  img = normalize_layer(img)\n",
        "  img = tf.expand_dims(img, axis=0)\n",
        "  pred = ensemble_model.predict(img)\n",
        "  game_name = class_name[np.argmax(pred)]\n",
        "  plt.subplot(4,4,a+1)\n",
        "  plt.imshow(image)\n",
        "  plt.title(game_name)"
      ],
      "metadata": {
        "id": "LZuzvNrvySDA"
      },
      "execution_count": null,
      "outputs": []
    }
  ]
}
