{
  "nbformat": 4,
  "nbformat_minor": 0,
  "metadata": {
    "colab": {
      "provenance": [],
      "toc_visible": true,
      "authorship_tag": "ABX9TyOcvfH72Apn62LRNcWbFQS2",
      "include_colab_link": true
    },
    "kernelspec": {
      "name": "python3",
      "display_name": "Python 3"
    },
    "language_info": {
      "name": "python"
    }
  },
  "cells": [
    {
      "cell_type": "markdown",
      "metadata": {
        "id": "view-in-github",
        "colab_type": "text"
      },
      "source": [
        "<a href=\"https://colab.research.google.com/github/maktaurus/ML-Work/blob/main/Vision_Transformer.ipynb\" target=\"_parent\"><img src=\"https://colab.research.google.com/assets/colab-badge.svg\" alt=\"Open In Colab\"/></a>"
      ]
    },
    {
      "cell_type": "markdown",
      "source": [
        "# Vision Transformer"
      ],
      "metadata": {
        "id": "ldhXFaWr6ETy"
      }
    },
    {
      "cell_type": "code",
      "execution_count": null,
      "metadata": {
        "id": "Uvyw68_a2bok"
      },
      "outputs": [],
      "source": [
        "import tensorflow as tf\n",
        "import numpy as np\n",
        "import os\n",
        "import pandas as pd\n",
        "import matplotlib.pyplot as plt\n",
        "from tensorflow.keras.utils import load_img, img_to_array, array_to_img\n",
        "from tensorboard.plugins.hparams import api as hp\n",
        "from tensorflow.keras import layers\n",
        "from tensorflow.keras.metrics import Accuracy,TruePositives,TrueNegatives,FalsePositives,FalseNegatives,Recall,Precision,AUC\n",
        "import zipfile\n",
        "import tensorflow_hub as hub\n",
        "\n",
        "from tensorflow.keras import layers"
      ]
    },
    {
      "cell_type": "code",
      "source": [
        "augment_layer = tf.keras.Sequential([\n",
        "    layers.Resizing(224,224),\n",
        "    layers.Rescaling(1./127.5,offset=-1)\n",
        "])"
      ],
      "metadata": {
        "id": "QjIloVHT8JF1"
      },
      "execution_count": null,
      "outputs": []
    },
    {
      "cell_type": "code",
      "source": [
        "# Hyperparameters\n",
        "img_size = 224\n",
        "patch_size = 16\n",
        "num_patches = (img_size // patch_size) **2\n",
        "projection_dims = 786\n",
        "num_heads = 4\n",
        "transformer_units = [projection_dims*2,projection_dims]\n",
        "transformer_layer = 8\n",
        "mlp_units = [2048,1024]\n",
        "batch_size = 1"
      ],
      "metadata": {
        "id": "lAjInub725ba"
      },
      "execution_count": null,
      "outputs": []
    },
    {
      "cell_type": "code",
      "source": [
        "def mlp(x,mlp_units,dropout):\n",
        "  for units in mlp_units:\n",
        "    x = layers.Dense(units,activation=tf.nn.gelu)(x)\n",
        "    x = layers.Dropout(dropout)(x)\n",
        "  return x"
      ],
      "metadata": {
        "id": "r7x_B3na35dO"
      },
      "execution_count": null,
      "outputs": []
    },
    {
      "cell_type": "code",
      "source": [
        "class Patches(layers.Layer):\n",
        "  def __init__(self,path_size,batch_size):\n",
        "    super().__init__()\n",
        "    self.patch_size = patch_size\n",
        "    self.batch_size = batch_size\n",
        "\n",
        "  def call(self,x):\n",
        "    patches = tf.image.extract_patches(x,\n",
        "                                       sizes = [1,self.patch_size,self.patch_size,1],\n",
        "                                       strides = [1,self.patch_size,self.patch_size,1],\n",
        "                                       rates = [1,1,1,1],\n",
        "                                       padding = \"VALID\")\n",
        "    patches = tf.reshape(patches, (self.batch_size,-1,patches.shape[-1]))\n",
        "    return patches"
      ],
      "metadata": {
        "id": "NHRj8NrS2wGl"
      },
      "execution_count": null,
      "outputs": []
    },
    {
      "cell_type": "code",
      "source": [
        "img = load_img(\"/content/bb.jpg\",target_size=(224,224))\n",
        "pp = Patches(patch_size,batch_size)(tf.expand_dims(img,axis=0))\n",
        "pp.shape"
      ],
      "metadata": {
        "colab": {
          "base_uri": "https://localhost:8080/"
        },
        "id": "x1knDKD_5P6v",
        "outputId": "d1e2bfc1-8270-4a44-f34a-f361fbfcd812"
      },
      "execution_count": null,
      "outputs": [
        {
          "output_type": "execute_result",
          "data": {
            "text/plain": [
              "TensorShape([1, 196, 768])"
            ]
          },
          "metadata": {},
          "execution_count": 6
        }
      ]
    },
    {
      "cell_type": "code",
      "source": [
        "class PatchEncoder(layers.Layer):\n",
        "  def __init__(self,projection_dims,num_patches):\n",
        "    super().__init__()\n",
        "    self.num_patches = num_patches\n",
        "    self.projection = layers.Dense(projection_dims)\n",
        "    self.pos_emb = layers.Embedding(num_patches,projection_dims)\n",
        "\n",
        "  def call(self,x):\n",
        "    positions = tf.range(start=0,limit=self.num_patches,delta=1)\n",
        "    projections = self.projection(x)\n",
        "    encoded = projections + self.pos_emb(positions)\n",
        "    return encoded"
      ],
      "metadata": {
        "id": "jJjaUpoR5-Bv"
      },
      "execution_count": null,
      "outputs": []
    },
    {
      "cell_type": "code",
      "source": [
        "pe = PatchEncoder(projection_dims,num_patches)(pp)\n",
        "pe"
      ],
      "metadata": {
        "id": "S8g78QKj7q1I"
      },
      "execution_count": null,
      "outputs": []
    },
    {
      "cell_type": "code",
      "source": [
        "def vit_classifier():\n",
        "    input = layers.Input(shape=(224,224,3))\n",
        "    augment = augment_layer(input)\n",
        "    patches = Patches(patch_size,batch_size)(augment)\n",
        "    encoder = PatchEncoder(projection_dims,num_patches)(patches)\n",
        "\n",
        "    for _ in range(transformer_layer):\n",
        "      x1 = layers.LayerNormalization(epsilon=1e-6)(encoder)\n",
        "      atten = layers.MultiHeadAttention(num_heads=num_heads,key_dim=projection_dims)(x1,x1)\n",
        "\n",
        "      x2 = layers.Add()([atten,encoder])\n",
        "\n",
        "      x3 = layers.LayerNormalization(epsilon=1e-6)(x2)\n",
        "      x3 = mlp(x3,transformer_units,dropout=0.1)\n",
        "\n",
        "      encoder = layers.Add()([x3,x2])\n",
        "\n",
        "    repre = layers.LayerNormalization(epsilon=1e-6)(encoder)\n",
        "    repre = layers.Flatten()(repre)\n",
        "    repre = layers.Dropout(0.5)(repre)\n",
        "\n",
        "    repre = mlp(repre,mlp_units,dropout=0.1)\n",
        "\n",
        "    logits = layers.Dense(120,activation=\"softmax\")(repre)\n",
        "\n",
        "    model = tf.keras.Model(input,logits)\n",
        "\n",
        "    return model\n"
      ],
      "metadata": {
        "id": "FOr4V-xB7783"
      },
      "execution_count": null,
      "outputs": []
    },
    {
      "cell_type": "code",
      "source": [
        "vit_model = vit_classifier()\n",
        "vit_model.summary()"
      ],
      "metadata": {
        "colab": {
          "base_uri": "https://localhost:8080/"
        },
        "id": "SpHTt7L--x0O",
        "outputId": "2aa10ab7-75ad-420f-f447-970aac8bf37b"
      },
      "execution_count": null,
      "outputs": [
        {
          "output_type": "stream",
          "name": "stdout",
          "text": [
            "Model: \"model_2\"\n",
            "__________________________________________________________________________________________________\n",
            " Layer (type)                Output Shape                 Param #   Connected to                  \n",
            "==================================================================================================\n",
            " input_4 (InputLayer)        [(None, 224, 224, 3)]        0         []                            \n",
            "                                                                                                  \n",
            " sequential (Sequential)     (None, 224, 224, 3)          0         ['input_4[0][0]']             \n",
            "                                                                                                  \n",
            " patches_4 (Patches)         (1, None, 768)               0         ['sequential[3][0]']          \n",
            "                                                                                                  \n",
            " patch_encoder_4 (PatchEnco  (1, 196, 786)                758490    ['patches_4[0][0]']           \n",
            " der)                                                                                             \n",
            "                                                                                                  \n",
            " layer_normalization_51 (La  (1, 196, 786)                1572      ['patch_encoder_4[0][0]']     \n",
            " yerNormalization)                                                                                \n",
            "                                                                                                  \n",
            " multi_head_attention_24 (M  (1, 196, 786)                9894954   ['layer_normalization_51[0][0]\n",
            " ultiHeadAttention)                                                 ',                            \n",
            "                                                                     'layer_normalization_51[0][0]\n",
            "                                                                    ']                            \n",
            "                                                                                                  \n",
            " add_48 (Add)                (1, 196, 786)                0         ['multi_head_attention_24[0][0\n",
            "                                                                    ]',                           \n",
            "                                                                     'patch_encoder_4[0][0]']     \n",
            "                                                                                                  \n",
            " layer_normalization_52 (La  (1, 196, 786)                1572      ['add_48[0][0]']              \n",
            " yerNormalization)                                                                                \n",
            "                                                                                                  \n",
            " dense_60 (Dense)            (1, 196, 1572)               1237164   ['layer_normalization_52[0][0]\n",
            "                                                                    ']                            \n",
            "                                                                                                  \n",
            " dropout_55 (Dropout)        (1, 196, 1572)               0         ['dense_60[0][0]']            \n",
            "                                                                                                  \n",
            " dense_61 (Dense)            (1, 196, 786)                1236378   ['dropout_55[0][0]']          \n",
            "                                                                                                  \n",
            " dropout_56 (Dropout)        (1, 196, 786)                0         ['dense_61[0][0]']            \n",
            "                                                                                                  \n",
            " add_49 (Add)                (1, 196, 786)                0         ['dropout_56[0][0]',          \n",
            "                                                                     'add_48[0][0]']              \n",
            "                                                                                                  \n",
            " layer_normalization_53 (La  (1, 196, 786)                1572      ['add_49[0][0]']              \n",
            " yerNormalization)                                                                                \n",
            "                                                                                                  \n",
            " multi_head_attention_25 (M  (1, 196, 786)                9894954   ['layer_normalization_53[0][0]\n",
            " ultiHeadAttention)                                                 ',                            \n",
            "                                                                     'layer_normalization_53[0][0]\n",
            "                                                                    ']                            \n",
            "                                                                                                  \n",
            " add_50 (Add)                (1, 196, 786)                0         ['multi_head_attention_25[0][0\n",
            "                                                                    ]',                           \n",
            "                                                                     'add_49[0][0]']              \n",
            "                                                                                                  \n",
            " layer_normalization_54 (La  (1, 196, 786)                1572      ['add_50[0][0]']              \n",
            " yerNormalization)                                                                                \n",
            "                                                                                                  \n",
            " dense_62 (Dense)            (1, 196, 1572)               1237164   ['layer_normalization_54[0][0]\n",
            "                                                                    ']                            \n",
            "                                                                                                  \n",
            " dropout_57 (Dropout)        (1, 196, 1572)               0         ['dense_62[0][0]']            \n",
            "                                                                                                  \n",
            " dense_63 (Dense)            (1, 196, 786)                1236378   ['dropout_57[0][0]']          \n",
            "                                                                                                  \n",
            " dropout_58 (Dropout)        (1, 196, 786)                0         ['dense_63[0][0]']            \n",
            "                                                                                                  \n",
            " add_51 (Add)                (1, 196, 786)                0         ['dropout_58[0][0]',          \n",
            "                                                                     'add_50[0][0]']              \n",
            "                                                                                                  \n",
            " layer_normalization_55 (La  (1, 196, 786)                1572      ['add_51[0][0]']              \n",
            " yerNormalization)                                                                                \n",
            "                                                                                                  \n",
            " multi_head_attention_26 (M  (1, 196, 786)                9894954   ['layer_normalization_55[0][0]\n",
            " ultiHeadAttention)                                                 ',                            \n",
            "                                                                     'layer_normalization_55[0][0]\n",
            "                                                                    ']                            \n",
            "                                                                                                  \n",
            " add_52 (Add)                (1, 196, 786)                0         ['multi_head_attention_26[0][0\n",
            "                                                                    ]',                           \n",
            "                                                                     'add_51[0][0]']              \n",
            "                                                                                                  \n",
            " layer_normalization_56 (La  (1, 196, 786)                1572      ['add_52[0][0]']              \n",
            " yerNormalization)                                                                                \n",
            "                                                                                                  \n",
            " dense_64 (Dense)            (1, 196, 1572)               1237164   ['layer_normalization_56[0][0]\n",
            "                                                                    ']                            \n",
            "                                                                                                  \n",
            " dropout_59 (Dropout)        (1, 196, 1572)               0         ['dense_64[0][0]']            \n",
            "                                                                                                  \n",
            " dense_65 (Dense)            (1, 196, 786)                1236378   ['dropout_59[0][0]']          \n",
            "                                                                                                  \n",
            " dropout_60 (Dropout)        (1, 196, 786)                0         ['dense_65[0][0]']            \n",
            "                                                                                                  \n",
            " add_53 (Add)                (1, 196, 786)                0         ['dropout_60[0][0]',          \n",
            "                                                                     'add_52[0][0]']              \n",
            "                                                                                                  \n",
            " layer_normalization_57 (La  (1, 196, 786)                1572      ['add_53[0][0]']              \n",
            " yerNormalization)                                                                                \n",
            "                                                                                                  \n",
            " multi_head_attention_27 (M  (1, 196, 786)                9894954   ['layer_normalization_57[0][0]\n",
            " ultiHeadAttention)                                                 ',                            \n",
            "                                                                     'layer_normalization_57[0][0]\n",
            "                                                                    ']                            \n",
            "                                                                                                  \n",
            " add_54 (Add)                (1, 196, 786)                0         ['multi_head_attention_27[0][0\n",
            "                                                                    ]',                           \n",
            "                                                                     'add_53[0][0]']              \n",
            "                                                                                                  \n",
            " layer_normalization_58 (La  (1, 196, 786)                1572      ['add_54[0][0]']              \n",
            " yerNormalization)                                                                                \n",
            "                                                                                                  \n",
            " dense_66 (Dense)            (1, 196, 1572)               1237164   ['layer_normalization_58[0][0]\n",
            "                                                                    ']                            \n",
            "                                                                                                  \n",
            " dropout_61 (Dropout)        (1, 196, 1572)               0         ['dense_66[0][0]']            \n",
            "                                                                                                  \n",
            " dense_67 (Dense)            (1, 196, 786)                1236378   ['dropout_61[0][0]']          \n",
            "                                                                                                  \n",
            " dropout_62 (Dropout)        (1, 196, 786)                0         ['dense_67[0][0]']            \n",
            "                                                                                                  \n",
            " add_55 (Add)                (1, 196, 786)                0         ['dropout_62[0][0]',          \n",
            "                                                                     'add_54[0][0]']              \n",
            "                                                                                                  \n",
            " layer_normalization_59 (La  (1, 196, 786)                1572      ['add_55[0][0]']              \n",
            " yerNormalization)                                                                                \n",
            "                                                                                                  \n",
            " multi_head_attention_28 (M  (1, 196, 786)                9894954   ['layer_normalization_59[0][0]\n",
            " ultiHeadAttention)                                                 ',                            \n",
            "                                                                     'layer_normalization_59[0][0]\n",
            "                                                                    ']                            \n",
            "                                                                                                  \n",
            " add_56 (Add)                (1, 196, 786)                0         ['multi_head_attention_28[0][0\n",
            "                                                                    ]',                           \n",
            "                                                                     'add_55[0][0]']              \n",
            "                                                                                                  \n",
            " layer_normalization_60 (La  (1, 196, 786)                1572      ['add_56[0][0]']              \n",
            " yerNormalization)                                                                                \n",
            "                                                                                                  \n",
            " dense_68 (Dense)            (1, 196, 1572)               1237164   ['layer_normalization_60[0][0]\n",
            "                                                                    ']                            \n",
            "                                                                                                  \n",
            " dropout_63 (Dropout)        (1, 196, 1572)               0         ['dense_68[0][0]']            \n",
            "                                                                                                  \n",
            " dense_69 (Dense)            (1, 196, 786)                1236378   ['dropout_63[0][0]']          \n",
            "                                                                                                  \n",
            " dropout_64 (Dropout)        (1, 196, 786)                0         ['dense_69[0][0]']            \n",
            "                                                                                                  \n",
            " add_57 (Add)                (1, 196, 786)                0         ['dropout_64[0][0]',          \n",
            "                                                                     'add_56[0][0]']              \n",
            "                                                                                                  \n",
            " layer_normalization_61 (La  (1, 196, 786)                1572      ['add_57[0][0]']              \n",
            " yerNormalization)                                                                                \n",
            "                                                                                                  \n",
            " multi_head_attention_29 (M  (1, 196, 786)                9894954   ['layer_normalization_61[0][0]\n",
            " ultiHeadAttention)                                                 ',                            \n",
            "                                                                     'layer_normalization_61[0][0]\n",
            "                                                                    ']                            \n",
            "                                                                                                  \n",
            " add_58 (Add)                (1, 196, 786)                0         ['multi_head_attention_29[0][0\n",
            "                                                                    ]',                           \n",
            "                                                                     'add_57[0][0]']              \n",
            "                                                                                                  \n",
            " layer_normalization_62 (La  (1, 196, 786)                1572      ['add_58[0][0]']              \n",
            " yerNormalization)                                                                                \n",
            "                                                                                                  \n",
            " dense_70 (Dense)            (1, 196, 1572)               1237164   ['layer_normalization_62[0][0]\n",
            "                                                                    ']                            \n",
            "                                                                                                  \n",
            " dropout_65 (Dropout)        (1, 196, 1572)               0         ['dense_70[0][0]']            \n",
            "                                                                                                  \n",
            " dense_71 (Dense)            (1, 196, 786)                1236378   ['dropout_65[0][0]']          \n",
            "                                                                                                  \n",
            " dropout_66 (Dropout)        (1, 196, 786)                0         ['dense_71[0][0]']            \n",
            "                                                                                                  \n",
            " add_59 (Add)                (1, 196, 786)                0         ['dropout_66[0][0]',          \n",
            "                                                                     'add_58[0][0]']              \n",
            "                                                                                                  \n",
            " layer_normalization_63 (La  (1, 196, 786)                1572      ['add_59[0][0]']              \n",
            " yerNormalization)                                                                                \n",
            "                                                                                                  \n",
            " multi_head_attention_30 (M  (1, 196, 786)                9894954   ['layer_normalization_63[0][0]\n",
            " ultiHeadAttention)                                                 ',                            \n",
            "                                                                     'layer_normalization_63[0][0]\n",
            "                                                                    ']                            \n",
            "                                                                                                  \n",
            " add_60 (Add)                (1, 196, 786)                0         ['multi_head_attention_30[0][0\n",
            "                                                                    ]',                           \n",
            "                                                                     'add_59[0][0]']              \n",
            "                                                                                                  \n",
            " layer_normalization_64 (La  (1, 196, 786)                1572      ['add_60[0][0]']              \n",
            " yerNormalization)                                                                                \n",
            "                                                                                                  \n",
            " dense_72 (Dense)            (1, 196, 1572)               1237164   ['layer_normalization_64[0][0]\n",
            "                                                                    ']                            \n",
            "                                                                                                  \n",
            " dropout_67 (Dropout)        (1, 196, 1572)               0         ['dense_72[0][0]']            \n",
            "                                                                                                  \n",
            " dense_73 (Dense)            (1, 196, 786)                1236378   ['dropout_67[0][0]']          \n",
            "                                                                                                  \n",
            " dropout_68 (Dropout)        (1, 196, 786)                0         ['dense_73[0][0]']            \n",
            "                                                                                                  \n",
            " add_61 (Add)                (1, 196, 786)                0         ['dropout_68[0][0]',          \n",
            "                                                                     'add_60[0][0]']              \n",
            "                                                                                                  \n",
            " layer_normalization_65 (La  (1, 196, 786)                1572      ['add_61[0][0]']              \n",
            " yerNormalization)                                                                                \n",
            "                                                                                                  \n",
            " multi_head_attention_31 (M  (1, 196, 786)                9894954   ['layer_normalization_65[0][0]\n",
            " ultiHeadAttention)                                                 ',                            \n",
            "                                                                     'layer_normalization_65[0][0]\n",
            "                                                                    ']                            \n",
            "                                                                                                  \n",
            " add_62 (Add)                (1, 196, 786)                0         ['multi_head_attention_31[0][0\n",
            "                                                                    ]',                           \n",
            "                                                                     'add_61[0][0]']              \n",
            "                                                                                                  \n",
            " layer_normalization_66 (La  (1, 196, 786)                1572      ['add_62[0][0]']              \n",
            " yerNormalization)                                                                                \n",
            "                                                                                                  \n",
            " dense_74 (Dense)            (1, 196, 1572)               1237164   ['layer_normalization_66[0][0]\n",
            "                                                                    ']                            \n",
            "                                                                                                  \n",
            " dropout_69 (Dropout)        (1, 196, 1572)               0         ['dense_74[0][0]']            \n",
            "                                                                                                  \n",
            " dense_75 (Dense)            (1, 196, 786)                1236378   ['dropout_69[0][0]']          \n",
            "                                                                                                  \n",
            " dropout_70 (Dropout)        (1, 196, 786)                0         ['dense_75[0][0]']            \n",
            "                                                                                                  \n",
            " add_63 (Add)                (1, 196, 786)                0         ['dropout_70[0][0]',          \n",
            "                                                                     'add_62[0][0]']              \n",
            "                                                                                                  \n",
            " layer_normalization_67 (La  (1, 196, 786)                1572      ['add_63[0][0]']              \n",
            " yerNormalization)                                                                                \n",
            "                                                                                                  \n",
            " flatten_3 (Flatten)         (1, 154056)                  0         ['layer_normalization_67[0][0]\n",
            "                                                                    ']                            \n",
            "                                                                                                  \n",
            " dropout_71 (Dropout)        (1, 154056)                  0         ['flatten_3[0][0]']           \n",
            "                                                                                                  \n",
            " dense_76 (Dense)            (1, 2048)                    3155087   ['dropout_71[0][0]']          \n",
            "                                                          36                                      \n",
            "                                                                                                  \n",
            " dropout_72 (Dropout)        (1, 2048)                    0         ['dense_76[0][0]']            \n",
            "                                                                                                  \n",
            " dense_77 (Dense)            (1, 1024)                    2098176   ['dropout_72[0][0]']          \n",
            "                                                                                                  \n",
            " dropout_73 (Dropout)        (1, 1024)                    0         ['dense_77[0][0]']            \n",
            "                                                                                                  \n",
            " dense_78 (Dense)            (1, 120)                     123000    ['dropout_73[0][0]']          \n",
            "                                                                                                  \n",
            "==================================================================================================\n",
            "Total params: 417463094 (1.56 GB)\n",
            "Trainable params: 417463094 (1.56 GB)\n",
            "Non-trainable params: 0 (0.00 Byte)\n",
            "__________________________________________________________________________________________________\n"
          ]
        }
      ]
    }
  ]
}
